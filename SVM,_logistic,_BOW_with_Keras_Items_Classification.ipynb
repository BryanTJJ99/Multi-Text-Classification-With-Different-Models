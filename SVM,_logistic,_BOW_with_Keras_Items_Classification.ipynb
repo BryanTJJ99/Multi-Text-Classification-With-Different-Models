{
  "nbformat": 4,
  "nbformat_minor": 0,
  "metadata": {
    "colab": {
      "provenance": []
    },
    "kernelspec": {
      "name": "python3",
      "display_name": "Python 3"
    },
    "language_info": {
      "name": "python"
    }
  },
  "cells": [
    {
      "cell_type": "code",
      "execution_count": null,
      "metadata": {
        "id": "IHm_sQKnxGb_"
      },
      "outputs": [],
      "source": [
        "# link: https://towardsdatascience.com/multi-class-text-classification-model-comparison-and-selection-5eb066197568\n",
        "\n",
        "\n",
        "\n",
        "# Algorithms that are designed for binary classification can be adapted for use for multi-class problems.\n",
        "# This involves using a strategy of fitting multiple binary classification models for each class vs. all other classes (called one-vs-rest) or one model for each pair of classes (called one-vs-one).\n",
        "# https://machinelearningmastery.com/types-of-classification-in-machine-learning/"
      ]
    },
    {
      "cell_type": "code",
      "source": [
        "\n",
        "import logging\n",
        "import pandas as pd\n",
        "import numpy as np\n",
        "from numpy import random\n",
        "import gensim\n",
        "import nltk\n",
        "from sklearn.model_selection import train_test_split\n",
        "from sklearn.feature_extraction.text import CountVectorizer, TfidfVectorizer\n",
        "from sklearn.metrics import accuracy_score, f1_score, confusion_matrix\n",
        "import matplotlib.pyplot as plt\n",
        "# from nltk.corpus import stopwords\n",
        "import nltk\n",
        "\n",
        "import re\n",
        "from bs4 import BeautifulSoup\n",
        "%matplotlib inline\n",
        "\n"
      ],
      "metadata": {
        "id": "vWfYgViTx3rA"
      },
      "execution_count": null,
      "outputs": []
    },
    {
      "cell_type": "code",
      "source": [
        "from google.colab import files\n",
        "uploaded = files.upload()\n",
        "\n",
        "# Dataset is now stored in a Pandas Dataframe"
      ],
      "metadata": {
        "colab": {
          "resources": {
            "http://localhost:8080/nbextensions/google.colab/files.js": {
              "data": "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",
              "ok": true,
              "headers": [
                [
                  "content-type",
                  "application/javascript"
                ]
              ],
              "status": 200,
              "status_text": ""
            }
          },
          "base_uri": "https://localhost:8080/",
          "height": 73
        },
        "id": "xlTcorr7yC8m",
        "outputId": "af2c5e2a-e7d7-42da-c162-cb431235e532"
      },
      "execution_count": null,
      "outputs": [
        {
          "output_type": "display_data",
          "data": {
            "text/plain": [
              "<IPython.core.display.HTML object>"
            ],
            "text/html": [
              "\n",
              "     <input type=\"file\" id=\"files-6df903f8-d180-4cb8-94bb-55740d916c69\" name=\"files[]\" multiple disabled\n",
              "        style=\"border:none\" />\n",
              "     <output id=\"result-6df903f8-d180-4cb8-94bb-55740d916c69\">\n",
              "      Upload widget is only available when the cell has been executed in the\n",
              "      current browser session. Please rerun this cell to enable.\n",
              "      </output>\n",
              "      <script src=\"/nbextensions/google.colab/files.js\"></script> "
            ]
          },
          "metadata": {}
        },
        {
          "output_type": "stream",
          "name": "stdout",
          "text": [
            "Saving Bert_Model_Data_Agri.csv to Bert_Model_Data_Agri.csv\n"
          ]
        }
      ]
    },
    {
      "cell_type": "code",
      "source": [
        "import io\n",
        "df = pd.read_csv(io.BytesIO(uploaded['Bert_Model_Data_Agri.csv']),encoding='latin-1')"
      ],
      "metadata": {
        "id": "NJydAnIxyh-f"
      },
      "execution_count": null,
      "outputs": []
    },
    {
      "cell_type": "code",
      "source": [
        "df = df[['Item','Exiobase Spend Category']]\n",
        "df.head()"
      ],
      "metadata": {
        "colab": {
          "base_uri": "https://localhost:8080/",
          "height": 206
        },
        "id": "_NLVclXryUpB",
        "outputId": "95ae2a0f-661f-486c-c502-1b0496556474"
      },
      "execution_count": null,
      "outputs": [
        {
          "output_type": "execute_result",
          "data": {
            "text/plain": [
              "                                          Item  Exiobase Spend Category\n",
              "0                                         Beef  Products of meat cattle\n",
              "1            Abondance cheese, from cow's milk           Dairy products\n",
              "2      Apricot, canned in light syrup, drained        Food products nec\n",
              "3  Apricot, canned in light syrup, not drained        Food products nec\n",
              "4           Apricot, in syrup, canned, drained        Food products nec"
            ],
            "text/html": [
              "\n",
              "  <div id=\"df-86607f46-3316-4087-a2aa-7ec9f94e361b\">\n",
              "    <div class=\"colab-df-container\">\n",
              "      <div>\n",
              "<style scoped>\n",
              "    .dataframe tbody tr th:only-of-type {\n",
              "        vertical-align: middle;\n",
              "    }\n",
              "\n",
              "    .dataframe tbody tr th {\n",
              "        vertical-align: top;\n",
              "    }\n",
              "\n",
              "    .dataframe thead th {\n",
              "        text-align: right;\n",
              "    }\n",
              "</style>\n",
              "<table border=\"1\" class=\"dataframe\">\n",
              "  <thead>\n",
              "    <tr style=\"text-align: right;\">\n",
              "      <th></th>\n",
              "      <th>Item</th>\n",
              "      <th>Exiobase Spend Category</th>\n",
              "    </tr>\n",
              "  </thead>\n",
              "  <tbody>\n",
              "    <tr>\n",
              "      <th>0</th>\n",
              "      <td>Beef</td>\n",
              "      <td>Products of meat cattle</td>\n",
              "    </tr>\n",
              "    <tr>\n",
              "      <th>1</th>\n",
              "      <td>Abondance cheese, from cow's milk</td>\n",
              "      <td>Dairy products</td>\n",
              "    </tr>\n",
              "    <tr>\n",
              "      <th>2</th>\n",
              "      <td>Apricot, canned in light syrup, drained</td>\n",
              "      <td>Food products nec</td>\n",
              "    </tr>\n",
              "    <tr>\n",
              "      <th>3</th>\n",
              "      <td>Apricot, canned in light syrup, not drained</td>\n",
              "      <td>Food products nec</td>\n",
              "    </tr>\n",
              "    <tr>\n",
              "      <th>4</th>\n",
              "      <td>Apricot, in syrup, canned, drained</td>\n",
              "      <td>Food products nec</td>\n",
              "    </tr>\n",
              "  </tbody>\n",
              "</table>\n",
              "</div>\n",
              "      <button class=\"colab-df-convert\" onclick=\"convertToInteractive('df-86607f46-3316-4087-a2aa-7ec9f94e361b')\"\n",
              "              title=\"Convert this dataframe to an interactive table.\"\n",
              "              style=\"display:none;\">\n",
              "        \n",
              "  <svg xmlns=\"http://www.w3.org/2000/svg\" height=\"24px\"viewBox=\"0 0 24 24\"\n",
              "       width=\"24px\">\n",
              "    <path d=\"M0 0h24v24H0V0z\" fill=\"none\"/>\n",
              "    <path d=\"M18.56 5.44l.94 2.06.94-2.06 2.06-.94-2.06-.94-.94-2.06-.94 2.06-2.06.94zm-11 1L8.5 8.5l.94-2.06 2.06-.94-2.06-.94L8.5 2.5l-.94 2.06-2.06.94zm10 10l.94 2.06.94-2.06 2.06-.94-2.06-.94-.94-2.06-.94 2.06-2.06.94z\"/><path d=\"M17.41 7.96l-1.37-1.37c-.4-.4-.92-.59-1.43-.59-.52 0-1.04.2-1.43.59L10.3 9.45l-7.72 7.72c-.78.78-.78 2.05 0 2.83L4 21.41c.39.39.9.59 1.41.59.51 0 1.02-.2 1.41-.59l7.78-7.78 2.81-2.81c.8-.78.8-2.07 0-2.86zM5.41 20L4 18.59l7.72-7.72 1.47 1.35L5.41 20z\"/>\n",
              "  </svg>\n",
              "      </button>\n",
              "      \n",
              "  <style>\n",
              "    .colab-df-container {\n",
              "      display:flex;\n",
              "      flex-wrap:wrap;\n",
              "      gap: 12px;\n",
              "    }\n",
              "\n",
              "    .colab-df-convert {\n",
              "      background-color: #E8F0FE;\n",
              "      border: none;\n",
              "      border-radius: 50%;\n",
              "      cursor: pointer;\n",
              "      display: none;\n",
              "      fill: #1967D2;\n",
              "      height: 32px;\n",
              "      padding: 0 0 0 0;\n",
              "      width: 32px;\n",
              "    }\n",
              "\n",
              "    .colab-df-convert:hover {\n",
              "      background-color: #E2EBFA;\n",
              "      box-shadow: 0px 1px 2px rgba(60, 64, 67, 0.3), 0px 1px 3px 1px rgba(60, 64, 67, 0.15);\n",
              "      fill: #174EA6;\n",
              "    }\n",
              "\n",
              "    [theme=dark] .colab-df-convert {\n",
              "      background-color: #3B4455;\n",
              "      fill: #D2E3FC;\n",
              "    }\n",
              "\n",
              "    [theme=dark] .colab-df-convert:hover {\n",
              "      background-color: #434B5C;\n",
              "      box-shadow: 0px 1px 3px 1px rgba(0, 0, 0, 0.15);\n",
              "      filter: drop-shadow(0px 1px 2px rgba(0, 0, 0, 0.3));\n",
              "      fill: #FFFFFF;\n",
              "    }\n",
              "  </style>\n",
              "\n",
              "      <script>\n",
              "        const buttonEl =\n",
              "          document.querySelector('#df-86607f46-3316-4087-a2aa-7ec9f94e361b button.colab-df-convert');\n",
              "        buttonEl.style.display =\n",
              "          google.colab.kernel.accessAllowed ? 'block' : 'none';\n",
              "\n",
              "        async function convertToInteractive(key) {\n",
              "          const element = document.querySelector('#df-86607f46-3316-4087-a2aa-7ec9f94e361b');\n",
              "          const dataTable =\n",
              "            await google.colab.kernel.invokeFunction('convertToInteractive',\n",
              "                                                     [key], {});\n",
              "          if (!dataTable) return;\n",
              "\n",
              "          const docLinkHtml = 'Like what you see? Visit the ' +\n",
              "            '<a target=\"_blank\" href=https://colab.research.google.com/notebooks/data_table.ipynb>data table notebook</a>'\n",
              "            + ' to learn more about interactive tables.';\n",
              "          element.innerHTML = '';\n",
              "          dataTable['output_type'] = 'display_data';\n",
              "          await google.colab.output.renderOutput(dataTable, element);\n",
              "          const docLink = document.createElement('div');\n",
              "          docLink.innerHTML = docLinkHtml;\n",
              "          element.appendChild(docLink);\n",
              "        }\n",
              "      </script>\n",
              "    </div>\n",
              "  </div>\n",
              "  "
            ]
          },
          "metadata": {},
          "execution_count": 4
        }
      ]
    },
    {
      "cell_type": "code",
      "source": [
        "df.describe()"
      ],
      "metadata": {
        "colab": {
          "base_uri": "https://localhost:8080/",
          "height": 175
        },
        "id": "hOqu_rx3ypN9",
        "outputId": "72a7eb45-e64e-46bb-cbac-53a8aeacea0c"
      },
      "execution_count": null,
      "outputs": [
        {
          "output_type": "execute_result",
          "data": {
            "text/plain": [
              "          Item  Exiobase Spend Category\n",
              "count    17852                    17851\n",
              "unique    3988                       29\n",
              "top     Fruits  Vegetables, fruit, nuts\n",
              "freq       211                    10962"
            ],
            "text/html": [
              "\n",
              "  <div id=\"df-bbe4d3e8-82f8-4471-90d8-9c0966972758\">\n",
              "    <div class=\"colab-df-container\">\n",
              "      <div>\n",
              "<style scoped>\n",
              "    .dataframe tbody tr th:only-of-type {\n",
              "        vertical-align: middle;\n",
              "    }\n",
              "\n",
              "    .dataframe tbody tr th {\n",
              "        vertical-align: top;\n",
              "    }\n",
              "\n",
              "    .dataframe thead th {\n",
              "        text-align: right;\n",
              "    }\n",
              "</style>\n",
              "<table border=\"1\" class=\"dataframe\">\n",
              "  <thead>\n",
              "    <tr style=\"text-align: right;\">\n",
              "      <th></th>\n",
              "      <th>Item</th>\n",
              "      <th>Exiobase Spend Category</th>\n",
              "    </tr>\n",
              "  </thead>\n",
              "  <tbody>\n",
              "    <tr>\n",
              "      <th>count</th>\n",
              "      <td>17852</td>\n",
              "      <td>17851</td>\n",
              "    </tr>\n",
              "    <tr>\n",
              "      <th>unique</th>\n",
              "      <td>3988</td>\n",
              "      <td>29</td>\n",
              "    </tr>\n",
              "    <tr>\n",
              "      <th>top</th>\n",
              "      <td>Fruits</td>\n",
              "      <td>Vegetables, fruit, nuts</td>\n",
              "    </tr>\n",
              "    <tr>\n",
              "      <th>freq</th>\n",
              "      <td>211</td>\n",
              "      <td>10962</td>\n",
              "    </tr>\n",
              "  </tbody>\n",
              "</table>\n",
              "</div>\n",
              "      <button class=\"colab-df-convert\" onclick=\"convertToInteractive('df-bbe4d3e8-82f8-4471-90d8-9c0966972758')\"\n",
              "              title=\"Convert this dataframe to an interactive table.\"\n",
              "              style=\"display:none;\">\n",
              "        \n",
              "  <svg xmlns=\"http://www.w3.org/2000/svg\" height=\"24px\"viewBox=\"0 0 24 24\"\n",
              "       width=\"24px\">\n",
              "    <path d=\"M0 0h24v24H0V0z\" fill=\"none\"/>\n",
              "    <path d=\"M18.56 5.44l.94 2.06.94-2.06 2.06-.94-2.06-.94-.94-2.06-.94 2.06-2.06.94zm-11 1L8.5 8.5l.94-2.06 2.06-.94-2.06-.94L8.5 2.5l-.94 2.06-2.06.94zm10 10l.94 2.06.94-2.06 2.06-.94-2.06-.94-.94-2.06-.94 2.06-2.06.94z\"/><path d=\"M17.41 7.96l-1.37-1.37c-.4-.4-.92-.59-1.43-.59-.52 0-1.04.2-1.43.59L10.3 9.45l-7.72 7.72c-.78.78-.78 2.05 0 2.83L4 21.41c.39.39.9.59 1.41.59.51 0 1.02-.2 1.41-.59l7.78-7.78 2.81-2.81c.8-.78.8-2.07 0-2.86zM5.41 20L4 18.59l7.72-7.72 1.47 1.35L5.41 20z\"/>\n",
              "  </svg>\n",
              "      </button>\n",
              "      \n",
              "  <style>\n",
              "    .colab-df-container {\n",
              "      display:flex;\n",
              "      flex-wrap:wrap;\n",
              "      gap: 12px;\n",
              "    }\n",
              "\n",
              "    .colab-df-convert {\n",
              "      background-color: #E8F0FE;\n",
              "      border: none;\n",
              "      border-radius: 50%;\n",
              "      cursor: pointer;\n",
              "      display: none;\n",
              "      fill: #1967D2;\n",
              "      height: 32px;\n",
              "      padding: 0 0 0 0;\n",
              "      width: 32px;\n",
              "    }\n",
              "\n",
              "    .colab-df-convert:hover {\n",
              "      background-color: #E2EBFA;\n",
              "      box-shadow: 0px 1px 2px rgba(60, 64, 67, 0.3), 0px 1px 3px 1px rgba(60, 64, 67, 0.15);\n",
              "      fill: #174EA6;\n",
              "    }\n",
              "\n",
              "    [theme=dark] .colab-df-convert {\n",
              "      background-color: #3B4455;\n",
              "      fill: #D2E3FC;\n",
              "    }\n",
              "\n",
              "    [theme=dark] .colab-df-convert:hover {\n",
              "      background-color: #434B5C;\n",
              "      box-shadow: 0px 1px 3px 1px rgba(0, 0, 0, 0.15);\n",
              "      filter: drop-shadow(0px 1px 2px rgba(0, 0, 0, 0.3));\n",
              "      fill: #FFFFFF;\n",
              "    }\n",
              "  </style>\n",
              "\n",
              "      <script>\n",
              "        const buttonEl =\n",
              "          document.querySelector('#df-bbe4d3e8-82f8-4471-90d8-9c0966972758 button.colab-df-convert');\n",
              "        buttonEl.style.display =\n",
              "          google.colab.kernel.accessAllowed ? 'block' : 'none';\n",
              "\n",
              "        async function convertToInteractive(key) {\n",
              "          const element = document.querySelector('#df-bbe4d3e8-82f8-4471-90d8-9c0966972758');\n",
              "          const dataTable =\n",
              "            await google.colab.kernel.invokeFunction('convertToInteractive',\n",
              "                                                     [key], {});\n",
              "          if (!dataTable) return;\n",
              "\n",
              "          const docLinkHtml = 'Like what you see? Visit the ' +\n",
              "            '<a target=\"_blank\" href=https://colab.research.google.com/notebooks/data_table.ipynb>data table notebook</a>'\n",
              "            + ' to learn more about interactive tables.';\n",
              "          element.innerHTML = '';\n",
              "          dataTable['output_type'] = 'display_data';\n",
              "          await google.colab.output.renderOutput(dataTable, element);\n",
              "          const docLink = document.createElement('div');\n",
              "          docLink.innerHTML = docLinkHtml;\n",
              "          element.appendChild(docLink);\n",
              "        }\n",
              "      </script>\n",
              "    </div>\n",
              "  </div>\n",
              "  "
            ]
          },
          "metadata": {},
          "execution_count": 5
        }
      ]
    },
    {
      "cell_type": "code",
      "source": [
        "# Drop all rows with NaN values\n",
        "df = df.dropna().reset_index(drop=True)"
      ],
      "metadata": {
        "id": "p4SuBKlWyprx"
      },
      "execution_count": null,
      "outputs": []
    },
    {
      "cell_type": "code",
      "source": [
        "df.groupby(['Exiobase Spend Category']).size().plot.bar() #Highly Unbalanced"
      ],
      "metadata": {
        "colab": {
          "base_uri": "https://localhost:8080/",
          "height": 591
        },
        "id": "RtNcTLmny6cM",
        "outputId": "dc535943-d33e-4d9d-c7fe-6dc537c6d16f"
      },
      "execution_count": null,
      "outputs": [
        {
          "output_type": "execute_result",
          "data": {
            "text/plain": [
              "<matplotlib.axes._subplots.AxesSubplot at 0x7fd697d70a10>"
            ]
          },
          "metadata": {},
          "execution_count": 7
        },
        {
          "output_type": "display_data",
          "data": {
            "text/plain": [
              "<Figure size 432x288 with 1 Axes>"
            ],
            "image/png": "[encoded data removed]"
          },
          "metadata": {
            "needs_background": "light"
          }
        }
      ]
    },
    {
      "cell_type": "code",
      "source": [
        "df.drop_duplicates(inplace=True)\n",
        "df.groupby(['Exiobase Spend Category']).size().plot.bar() #Still highly Unbalanced after dropping duplicate rows"
      ],
      "metadata": {
        "colab": {
          "base_uri": "https://localhost:8080/",
          "height": 591
        },
        "id": "4l_f7t9Hy7Lv",
        "outputId": "ae5c4e95-b1a9-4818-e740-f344b11418f7"
      },
      "execution_count": null,
      "outputs": [
        {
          "output_type": "execute_result",
          "data": {
            "text/plain": [
              "<matplotlib.axes._subplots.AxesSubplot at 0x7fd697c845d0>"
            ]
          },
          "metadata": {},
          "execution_count": 8
        },
        {
          "output_type": "display_data",
          "data": {
            "text/plain": [
              "<Figure size 432x288 with 1 Axes>"
            ],
            "image/png": "[encoded data removed]"
          },
          "metadata": {
            "needs_background": "light"
          }
        }
      ]
    },
    {
      "cell_type": "code",
      "source": [
        "#Clean dataset first\n",
        "REPLACE_BY_SPACE_RE = re.compile('[/(){}\\[\\]\\|@,;]')\n",
        "BAD_SYMBOLS_RE = re.compile('[^0-9a-z #+_]')\n",
        "import nltk\n",
        "from nltk.corpus import stopwords\n",
        "nltk.download('stopwords')\n",
        "STOPWORDS = set(stopwords.words('english'))\n",
        "\n",
        "def clean_text(text):\n",
        "    \"\"\"\n",
        "        text: a string\n",
        "        \n",
        "        return: modified initial string\n",
        "    \"\"\"\n",
        "    text = text.lower() # lowercase text\n",
        "    text = REPLACE_BY_SPACE_RE.sub(' ', text) # replace REPLACE_BY_SPACE_RE symbols by space in text\n",
        "    text = BAD_SYMBOLS_RE.sub('', text) # delete symbols which are in BAD_SYMBOLS_RE from text\n",
        "    text = ' '.join(word for word in text.split() if word not in STOPWORDS) # delete stopwords from text\n",
        "    return text\n",
        "    \n",
        "df['Item'] = df['Item'].apply(clean_text)\n",
        "df.iloc[621] #previously is 'Pumpkin (cucurbita moschata), pulp, raw'"
      ],
      "metadata": {
        "colab": {
          "base_uri": "https://localhost:8080/"
        },
        "id": "L23VRZkrXqwf",
        "outputId": "9ecea79e-6f39-42b5-b19f-4807eab37cd9"
      },
      "execution_count": null,
      "outputs": [
        {
          "output_type": "stream",
          "name": "stderr",
          "text": [
            "[nltk_data] Downloading package stopwords to /root/nltk_data...\n",
            "[nltk_data]   Unzipping corpora/stopwords.zip.\n"
          ]
        },
        {
          "output_type": "execute_result",
          "data": {
            "text/plain": [
              "Item                       pumpkin cucurbita moschata pulp raw\n",
              "Exiobase Spend Category                Vegetables, fruit, nuts\n",
              "Name: 621, dtype: object"
            ]
          },
          "metadata": {},
          "execution_count": 9
        }
      ]
    },
    {
      "cell_type": "code",
      "source": [],
      "metadata": {
        "id": "YIZuQOSPdkSk"
      },
      "execution_count": null,
      "outputs": []
    },
    {
      "cell_type": "code",
      "source": [
        "df['Exiobase Spend Category'].value_counts()"
      ],
      "metadata": {
        "colab": {
          "base_uri": "https://localhost:8080/"
        },
        "id": "U5t4lTYngLrU",
        "outputId": "55714065-6901-4e92-a469-d470b46fe39e"
      },
      "execution_count": null,
      "outputs": [
        {
          "output_type": "execute_result",
          "data": {
            "text/plain": [
              "Food products nec                                                  1069\n",
              "Vegetables, fruit, nuts                                             910\n",
              "Beverages                                                           400\n",
              "Fish and other fishing products; services incidental of fishing     311\n",
              "Dairy products                                                      205\n",
              "Products of meat cattle                                             148\n",
              "Poultry                                                             129\n",
              "Cattle                                                              123\n",
              "Pigs                                                                114\n",
              "Cereals grains nec                                                  109\n",
              "Meat animals nec                                                     77\n",
              "Products of meat pigs                                                72\n",
              "Products of vegetable oils and fats                                  54\n",
              "Fish products                                                        49\n",
              "Meat products nec                                                    44\n",
              "Products of meat poultry                                             42\n",
              "Oil seeds                                                            37\n",
              "Sugar                                                                29\n",
              "Wheat                                                                28\n",
              "Crops nec                                                            26\n",
              "Office machinery and computers                                       11\n",
              "Plant based fibers                                                    8\n",
              "Textiles                                                              6\n",
              "Raw milk                                                              5\n",
              "Chemicals nec                                                         3\n",
              "Sugar cane, sugar beet                                                3\n",
              "Rubber and plastic products                                           3\n",
              "Paddy rice                                                            2\n",
              "Name: Exiobase Spend Category, dtype: int64"
            ]
          },
          "metadata": {},
          "execution_count": 11
        }
      ]
    },
    {
      "cell_type": "markdown",
      "source": [
        "**USING SMOTE TO SOLVE IMBALANCED CLASSIFICATION (RE SAMPLING):**"
      ],
      "metadata": {
        "id": "TC-Qmkn-N6WE"
      }
    },
    {
      "cell_type": "code",
      "source": [
        "#using smote requires removing outliers -> removing those classes with only one 1 sample\n",
        "# df['Exiobase Spend Category'].value_counts() == 1\n",
        "\n",
        "# value_count_lst = df['Exiobase Spend Category'].value_counts()[:]\n",
        "# value_count_lst\n",
        "for idx,name in enumerate(df['Exiobase Spend Category'].value_counts().index.tolist()):\n",
        "  if df['Exiobase Spend Category'].value_counts()[idx] <=1:\n",
        "    df = df[df['Exiobase Spend Category'] != name]"
      ],
      "metadata": {
        "id": "NB0ND8vLlAW-"
      },
      "execution_count": null,
      "outputs": []
    },
    {
      "cell_type": "code",
      "source": [
        "#Create Train test split first\n",
        "X = df['Item']\n",
        "y = df['Exiobase Spend Category']\n",
        "X_train, X_test, y_train, y_test = train_test_split(X, y, test_size=0.3, random_state = 42)"
      ],
      "metadata": {
        "id": "urbCEbVdYhVW"
      },
      "execution_count": null,
      "outputs": []
    },
    {
      "cell_type": "code",
      "source": [
        "X_train"
      ],
      "metadata": {
        "colab": {
          "base_uri": "https://localhost:8080/"
        },
        "id": "Z4UtDsZBa38x",
        "outputId": "0f664b15-fd12-4148-dffe-56f2be865121"
      },
      "execution_count": null,
      "outputs": [
        {
          "output_type": "execute_result",
          "data": {
            "text/plain": [
              "1430                              millet cooked unsalted\n",
              "17565                                           lime raw\n",
              "2467     yogurt fermented milk dairy specialty w cereals\n",
              "1715                  baby food jar vegetables 46 months\n",
              "226                                    beef round cooked\n",
              "                              ...                       \n",
              "1131                               flageolet bean cooked\n",
              "1295                 mixed vegetables ratatouille frozen\n",
              "861                              swordfish roasted baked\n",
              "16132                         textured vegetable protein\n",
              "7294                                          flax fibre\n",
              "Name: Item, Length: 2811, dtype: object"
            ]
          },
          "metadata": {},
          "execution_count": 51
        }
      ]
    },
    {
      "cell_type": "code",
      "source": [
        "# recreate training dataframe by combining X_train and y_train\n",
        "df_train = pd.DataFrame(X_train) \n",
        "df_train['Exiobase Spend Category'] = y_train\n",
        "df_train"
      ],
      "metadata": {
        "colab": {
          "base_uri": "https://localhost:8080/",
          "height": 424
        },
        "id": "eUug4dSiYpDU",
        "outputId": "67416224-90d1-4f3b-c6ef-d9d690d39101"
      },
      "execution_count": null,
      "outputs": [
        {
          "output_type": "execute_result",
          "data": {
            "text/plain": [
              "                                                  Item  \\\n",
              "1430                            millet cooked unsalted   \n",
              "17565                                         lime raw   \n",
              "2467   yogurt fermented milk dairy specialty w cereals   \n",
              "1715                baby food jar vegetables 46 months   \n",
              "226                                  beef round cooked   \n",
              "...                                                ...   \n",
              "1131                             flageolet bean cooked   \n",
              "1295               mixed vegetables ratatouille frozen   \n",
              "861                            swordfish roasted baked   \n",
              "16132                       textured vegetable protein   \n",
              "7294                                        flax fibre   \n",
              "\n",
              "                                 Exiobase Spend Category  \n",
              "1430                                               Wheat  \n",
              "17565                            Vegetables, fruit, nuts  \n",
              "2467                                      Dairy products  \n",
              "1715                                   Food products nec  \n",
              "226                              Products of meat cattle  \n",
              "...                                                  ...  \n",
              "1131                                   Food products nec  \n",
              "1295                             Vegetables, fruit, nuts  \n",
              "861    Fish and other fishing products; services inci...  \n",
              "16132                                  Food products nec  \n",
              "7294                                  Plant based fibers  \n",
              "\n",
              "[2811 rows x 2 columns]"
            ],
            "text/html": [
              "\n",
              "  <div id=\"df-a29cf989-e72d-49d0-883b-790137e1ba61\">\n",
              "    <div class=\"colab-df-container\">\n",
              "      <div>\n",
              "<style scoped>\n",
              "    .dataframe tbody tr th:only-of-type {\n",
              "        vertical-align: middle;\n",
              "    }\n",
              "\n",
              "    .dataframe tbody tr th {\n",
              "        vertical-align: top;\n",
              "    }\n",
              "\n",
              "    .dataframe thead th {\n",
              "        text-align: right;\n",
              "    }\n",
              "</style>\n",
              "<table border=\"1\" class=\"dataframe\">\n",
              "  <thead>\n",
              "    <tr style=\"text-align: right;\">\n",
              "      <th></th>\n",
              "      <th>Item</th>\n",
              "      <th>Exiobase Spend Category</th>\n",
              "    </tr>\n",
              "  </thead>\n",
              "  <tbody>\n",
              "    <tr>\n",
              "      <th>1430</th>\n",
              "      <td>millet cooked unsalted</td>\n",
              "      <td>Wheat</td>\n",
              "    </tr>\n",
              "    <tr>\n",
              "      <th>17565</th>\n",
              "      <td>lime raw</td>\n",
              "      <td>Vegetables, fruit, nuts</td>\n",
              "    </tr>\n",
              "    <tr>\n",
              "      <th>2467</th>\n",
              "      <td>yogurt fermented milk dairy specialty w cereals</td>\n",
              "      <td>Dairy products</td>\n",
              "    </tr>\n",
              "    <tr>\n",
              "      <th>1715</th>\n",
              "      <td>baby food jar vegetables 46 months</td>\n",
              "      <td>Food products nec</td>\n",
              "    </tr>\n",
              "    <tr>\n",
              "      <th>226</th>\n",
              "      <td>beef round cooked</td>\n",
              "      <td>Products of meat cattle</td>\n",
              "    </tr>\n",
              "    <tr>\n",
              "      <th>...</th>\n",
              "      <td>...</td>\n",
              "      <td>...</td>\n",
              "    </tr>\n",
              "    <tr>\n",
              "      <th>1131</th>\n",
              "      <td>flageolet bean cooked</td>\n",
              "      <td>Food products nec</td>\n",
              "    </tr>\n",
              "    <tr>\n",
              "      <th>1295</th>\n",
              "      <td>mixed vegetables ratatouille frozen</td>\n",
              "      <td>Vegetables, fruit, nuts</td>\n",
              "    </tr>\n",
              "    <tr>\n",
              "      <th>861</th>\n",
              "      <td>swordfish roasted baked</td>\n",
              "      <td>Fish and other fishing products; services inci...</td>\n",
              "    </tr>\n",
              "    <tr>\n",
              "      <th>16132</th>\n",
              "      <td>textured vegetable protein</td>\n",
              "      <td>Food products nec</td>\n",
              "    </tr>\n",
              "    <tr>\n",
              "      <th>7294</th>\n",
              "      <td>flax fibre</td>\n",
              "      <td>Plant based fibers</td>\n",
              "    </tr>\n",
              "  </tbody>\n",
              "</table>\n",
              "<p>2811 rows × 2 columns</p>\n",
              "</div>\n",
              "      <button class=\"colab-df-convert\" onclick=\"convertToInteractive('df-a29cf989-e72d-49d0-883b-790137e1ba61')\"\n",
              "              title=\"Convert this dataframe to an interactive table.\"\n",
              "              style=\"display:none;\">\n",
              "        \n",
              "  <svg xmlns=\"http://www.w3.org/2000/svg\" height=\"24px\"viewBox=\"0 0 24 24\"\n",
              "       width=\"24px\">\n",
              "    <path d=\"M0 0h24v24H0V0z\" fill=\"none\"/>\n",
              "    <path d=\"M18.56 5.44l.94 2.06.94-2.06 2.06-.94-2.06-.94-.94-2.06-.94 2.06-2.06.94zm-11 1L8.5 8.5l.94-2.06 2.06-.94-2.06-.94L8.5 2.5l-.94 2.06-2.06.94zm10 10l.94 2.06.94-2.06 2.06-.94-2.06-.94-.94-2.06-.94 2.06-2.06.94z\"/><path d=\"M17.41 7.96l-1.37-1.37c-.4-.4-.92-.59-1.43-.59-.52 0-1.04.2-1.43.59L10.3 9.45l-7.72 7.72c-.78.78-.78 2.05 0 2.83L4 21.41c.39.39.9.59 1.41.59.51 0 1.02-.2 1.41-.59l7.78-7.78 2.81-2.81c.8-.78.8-2.07 0-2.86zM5.41 20L4 18.59l7.72-7.72 1.47 1.35L5.41 20z\"/>\n",
              "  </svg>\n",
              "      </button>\n",
              "      \n",
              "  <style>\n",
              "    .colab-df-container {\n",
              "      display:flex;\n",
              "      flex-wrap:wrap;\n",
              "      gap: 12px;\n",
              "    }\n",
              "\n",
              "    .colab-df-convert {\n",
              "      background-color: #E8F0FE;\n",
              "      border: none;\n",
              "      border-radius: 50%;\n",
              "      cursor: pointer;\n",
              "      display: none;\n",
              "      fill: #1967D2;\n",
              "      height: 32px;\n",
              "      padding: 0 0 0 0;\n",
              "      width: 32px;\n",
              "    }\n",
              "\n",
              "    .colab-df-convert:hover {\n",
              "      background-color: #E2EBFA;\n",
              "      box-shadow: 0px 1px 2px rgba(60, 64, 67, 0.3), 0px 1px 3px 1px rgba(60, 64, 67, 0.15);\n",
              "      fill: #174EA6;\n",
              "    }\n",
              "\n",
              "    [theme=dark] .colab-df-convert {\n",
              "      background-color: #3B4455;\n",
              "      fill: #D2E3FC;\n",
              "    }\n",
              "\n",
              "    [theme=dark] .colab-df-convert:hover {\n",
              "      background-color: #434B5C;\n",
              "      box-shadow: 0px 1px 3px 1px rgba(0, 0, 0, 0.15);\n",
              "      filter: drop-shadow(0px 1px 2px rgba(0, 0, 0, 0.3));\n",
              "      fill: #FFFFFF;\n",
              "    }\n",
              "  </style>\n",
              "\n",
              "      <script>\n",
              "        const buttonEl =\n",
              "          document.querySelector('#df-a29cf989-e72d-49d0-883b-790137e1ba61 button.colab-df-convert');\n",
              "        buttonEl.style.display =\n",
              "          google.colab.kernel.accessAllowed ? 'block' : 'none';\n",
              "\n",
              "        async function convertToInteractive(key) {\n",
              "          const element = document.querySelector('#df-a29cf989-e72d-49d0-883b-790137e1ba61');\n",
              "          const dataTable =\n",
              "            await google.colab.kernel.invokeFunction('convertToInteractive',\n",
              "                                                     [key], {});\n",
              "          if (!dataTable) return;\n",
              "\n",
              "          const docLinkHtml = 'Like what you see? Visit the ' +\n",
              "            '<a target=\"_blank\" href=https://colab.research.google.com/notebooks/data_table.ipynb>data table notebook</a>'\n",
              "            + ' to learn more about interactive tables.';\n",
              "          element.innerHTML = '';\n",
              "          dataTable['output_type'] = 'display_data';\n",
              "          await google.colab.output.renderOutput(dataTable, element);\n",
              "          const docLink = document.createElement('div');\n",
              "          docLink.innerHTML = docLinkHtml;\n",
              "          element.appendChild(docLink);\n",
              "        }\n",
              "      </script>\n",
              "    </div>\n",
              "  </div>\n",
              "  "
            ]
          },
          "metadata": {},
          "execution_count": 14
        }
      ]
    },
    {
      "cell_type": "code",
      "source": [
        "df_train['Exiobase Spend Category'].value_counts()"
      ],
      "metadata": {
        "colab": {
          "base_uri": "https://localhost:8080/"
        },
        "id": "-7NY812jmlEH",
        "outputId": "011c6789-5b97-43b6-f7ac-ed39a75b985b"
      },
      "execution_count": null,
      "outputs": [
        {
          "output_type": "execute_result",
          "data": {
            "text/plain": [
              "Food products nec                                                  767\n",
              "Vegetables, fruit, nuts                                            630\n",
              "Beverages                                                          279\n",
              "Fish and other fishing products; services incidental of fishing    216\n",
              "Dairy products                                                     146\n",
              "Products of meat cattle                                            100\n",
              "Cattle                                                              86\n",
              "Poultry                                                             82\n",
              "Pigs                                                                81\n",
              "Cereals grains nec                                                  76\n",
              "Products of meat pigs                                               53\n",
              "Meat animals nec                                                    52\n",
              "Fish products                                                       35\n",
              "Products of vegetable oils and fats                                 34\n",
              "Products of meat poultry                                            29\n",
              "Meat products nec                                                   29\n",
              "Oil seeds                                                           27\n",
              "Wheat                                                               20\n",
              "Sugar                                                               20\n",
              "Crops nec                                                           16\n",
              "Office machinery and computers                                       8\n",
              "Plant based fibers                                                   7\n",
              "Textiles                                                             5\n",
              "Chemicals nec                                                        3\n",
              "Rubber and plastic products                                          3\n",
              "Raw milk                                                             3\n",
              "Sugar cane, sugar beet                                               2\n",
              "Paddy rice                                                           2\n",
              "Name: Exiobase Spend Category, dtype: int64"
            ]
          },
          "metadata": {},
          "execution_count": 15
        }
      ]
    },
    {
      "cell_type": "code",
      "source": [
        "# https://towardsdatascience.com/5-smote-techniques-for-oversampling-your-imbalance-data-b8155bdbe2b5\n",
        "# https://arxiv.org/abs/1106.1813\n",
        "!pip install imbalanced-learn"
      ],
      "metadata": {
        "colab": {
          "base_uri": "https://localhost:8080/"
        },
        "id": "eQ3oeOfqOr2d",
        "outputId": "98fdd710-5340-47a4-8c21-36e1bd870203"
      },
      "execution_count": null,
      "outputs": [
        {
          "output_type": "stream",
          "name": "stdout",
          "text": [
            "Looking in indexes: https://pypi.org/simple, https://us-python.pkg.dev/colab-wheels/public/simple/\n",
            "Requirement already satisfied: imbalanced-learn in /usr/local/lib/python3.7/dist-packages (0.8.1)\n",
            "Requirement already satisfied: scikit-learn>=0.24 in /usr/local/lib/python3.7/dist-packages (from imbalanced-learn) (1.0.2)\n",
            "Requirement already satisfied: numpy>=1.13.3 in /usr/local/lib/python3.7/dist-packages (from imbalanced-learn) (1.21.6)\n",
            "Requirement already satisfied: scipy>=0.19.1 in /usr/local/lib/python3.7/dist-packages (from imbalanced-learn) (1.7.3)\n",
            "Requirement already satisfied: joblib>=0.11 in /usr/local/lib/python3.7/dist-packages (from imbalanced-learn) (1.1.0)\n",
            "Requirement already satisfied: threadpoolctl>=2.0.0 in /usr/local/lib/python3.7/dist-packages (from scikit-learn>=0.24->imbalanced-learn) (3.1.0)\n"
          ]
        }
      ]
    },
    {
      "cell_type": "code",
      "source": [
        "import imblearn\n",
        "print(imblearn.__version__)"
      ],
      "metadata": {
        "colab": {
          "base_uri": "https://localhost:8080/"
        },
        "id": "snpr7QpQO0M5",
        "outputId": "fa9e4f30-5274-4fd5-e97b-d137b8dcd9af"
      },
      "execution_count": null,
      "outputs": [
        {
          "output_type": "stream",
          "name": "stdout",
          "text": [
            "0.8.1\n"
          ]
        }
      ]
    },
    {
      "cell_type": "code",
      "source": [
        "df_train.head()"
      ],
      "metadata": {
        "colab": {
          "base_uri": "https://localhost:8080/",
          "height": 206
        },
        "id": "awW0iKfYS7J8",
        "outputId": "1f9beddb-0066-47bb-868f-73aa61b93b3f"
      },
      "execution_count": null,
      "outputs": [
        {
          "output_type": "execute_result",
          "data": {
            "text/plain": [
              "                                                  Item  \\\n",
              "1430                            millet cooked unsalted   \n",
              "17565                                         lime raw   \n",
              "2467   yogurt fermented milk dairy specialty w cereals   \n",
              "1715                baby food jar vegetables 46 months   \n",
              "226                                  beef round cooked   \n",
              "\n",
              "       Exiobase Spend Category  \n",
              "1430                     Wheat  \n",
              "17565  Vegetables, fruit, nuts  \n",
              "2467            Dairy products  \n",
              "1715         Food products nec  \n",
              "226    Products of meat cattle  "
            ],
            "text/html": [
              "\n",
              "  <div id=\"df-a550a2ea-0af4-468d-a169-345a3efee12d\">\n",
              "    <div class=\"colab-df-container\">\n",
              "      <div>\n",
              "<style scoped>\n",
              "    .dataframe tbody tr th:only-of-type {\n",
              "        vertical-align: middle;\n",
              "    }\n",
              "\n",
              "    .dataframe tbody tr th {\n",
              "        vertical-align: top;\n",
              "    }\n",
              "\n",
              "    .dataframe thead th {\n",
              "        text-align: right;\n",
              "    }\n",
              "</style>\n",
              "<table border=\"1\" class=\"dataframe\">\n",
              "  <thead>\n",
              "    <tr style=\"text-align: right;\">\n",
              "      <th></th>\n",
              "      <th>Item</th>\n",
              "      <th>Exiobase Spend Category</th>\n",
              "    </tr>\n",
              "  </thead>\n",
              "  <tbody>\n",
              "    <tr>\n",
              "      <th>1430</th>\n",
              "      <td>millet cooked unsalted</td>\n",
              "      <td>Wheat</td>\n",
              "    </tr>\n",
              "    <tr>\n",
              "      <th>17565</th>\n",
              "      <td>lime raw</td>\n",
              "      <td>Vegetables, fruit, nuts</td>\n",
              "    </tr>\n",
              "    <tr>\n",
              "      <th>2467</th>\n",
              "      <td>yogurt fermented milk dairy specialty w cereals</td>\n",
              "      <td>Dairy products</td>\n",
              "    </tr>\n",
              "    <tr>\n",
              "      <th>1715</th>\n",
              "      <td>baby food jar vegetables 46 months</td>\n",
              "      <td>Food products nec</td>\n",
              "    </tr>\n",
              "    <tr>\n",
              "      <th>226</th>\n",
              "      <td>beef round cooked</td>\n",
              "      <td>Products of meat cattle</td>\n",
              "    </tr>\n",
              "  </tbody>\n",
              "</table>\n",
              "</div>\n",
              "      <button class=\"colab-df-convert\" onclick=\"convertToInteractive('df-a550a2ea-0af4-468d-a169-345a3efee12d')\"\n",
              "              title=\"Convert this dataframe to an interactive table.\"\n",
              "              style=\"display:none;\">\n",
              "        \n",
              "  <svg xmlns=\"http://www.w3.org/2000/svg\" height=\"24px\"viewBox=\"0 0 24 24\"\n",
              "       width=\"24px\">\n",
              "    <path d=\"M0 0h24v24H0V0z\" fill=\"none\"/>\n",
              "    <path d=\"M18.56 5.44l.94 2.06.94-2.06 2.06-.94-2.06-.94-.94-2.06-.94 2.06-2.06.94zm-11 1L8.5 8.5l.94-2.06 2.06-.94-2.06-.94L8.5 2.5l-.94 2.06-2.06.94zm10 10l.94 2.06.94-2.06 2.06-.94-2.06-.94-.94-2.06-.94 2.06-2.06.94z\"/><path d=\"M17.41 7.96l-1.37-1.37c-.4-.4-.92-.59-1.43-.59-.52 0-1.04.2-1.43.59L10.3 9.45l-7.72 7.72c-.78.78-.78 2.05 0 2.83L4 21.41c.39.39.9.59 1.41.59.51 0 1.02-.2 1.41-.59l7.78-7.78 2.81-2.81c.8-.78.8-2.07 0-2.86zM5.41 20L4 18.59l7.72-7.72 1.47 1.35L5.41 20z\"/>\n",
              "  </svg>\n",
              "      </button>\n",
              "      \n",
              "  <style>\n",
              "    .colab-df-container {\n",
              "      display:flex;\n",
              "      flex-wrap:wrap;\n",
              "      gap: 12px;\n",
              "    }\n",
              "\n",
              "    .colab-df-convert {\n",
              "      background-color: #E8F0FE;\n",
              "      border: none;\n",
              "      border-radius: 50%;\n",
              "      cursor: pointer;\n",
              "      display: none;\n",
              "      fill: #1967D2;\n",
              "      height: 32px;\n",
              "      padding: 0 0 0 0;\n",
              "      width: 32px;\n",
              "    }\n",
              "\n",
              "    .colab-df-convert:hover {\n",
              "      background-color: #E2EBFA;\n",
              "      box-shadow: 0px 1px 2px rgba(60, 64, 67, 0.3), 0px 1px 3px 1px rgba(60, 64, 67, 0.15);\n",
              "      fill: #174EA6;\n",
              "    }\n",
              "\n",
              "    [theme=dark] .colab-df-convert {\n",
              "      background-color: #3B4455;\n",
              "      fill: #D2E3FC;\n",
              "    }\n",
              "\n",
              "    [theme=dark] .colab-df-convert:hover {\n",
              "      background-color: #434B5C;\n",
              "      box-shadow: 0px 1px 3px 1px rgba(0, 0, 0, 0.15);\n",
              "      filter: drop-shadow(0px 1px 2px rgba(0, 0, 0, 0.3));\n",
              "      fill: #FFFFFF;\n",
              "    }\n",
              "  </style>\n",
              "\n",
              "      <script>\n",
              "        const buttonEl =\n",
              "          document.querySelector('#df-a550a2ea-0af4-468d-a169-345a3efee12d button.colab-df-convert');\n",
              "        buttonEl.style.display =\n",
              "          google.colab.kernel.accessAllowed ? 'block' : 'none';\n",
              "\n",
              "        async function convertToInteractive(key) {\n",
              "          const element = document.querySelector('#df-a550a2ea-0af4-468d-a169-345a3efee12d');\n",
              "          const dataTable =\n",
              "            await google.colab.kernel.invokeFunction('convertToInteractive',\n",
              "                                                     [key], {});\n",
              "          if (!dataTable) return;\n",
              "\n",
              "          const docLinkHtml = 'Like what you see? Visit the ' +\n",
              "            '<a target=\"_blank\" href=https://colab.research.google.com/notebooks/data_table.ipynb>data table notebook</a>'\n",
              "            + ' to learn more about interactive tables.';\n",
              "          element.innerHTML = '';\n",
              "          dataTable['output_type'] = 'display_data';\n",
              "          await google.colab.output.renderOutput(dataTable, element);\n",
              "          const docLink = document.createElement('div');\n",
              "          docLink.innerHTML = docLinkHtml;\n",
              "          element.appendChild(docLink);\n",
              "        }\n",
              "      </script>\n",
              "    </div>\n",
              "  </div>\n",
              "  "
            ]
          },
          "metadata": {},
          "execution_count": 18
        }
      ]
    },
    {
      "cell_type": "code",
      "source": [
        "from imblearn.over_sampling import SMOTEN\n",
        "\n",
        "from collections import Counter\n",
        "print(f\"Original class counts: {Counter(df_train['Exiobase Spend Category'])}\")\n",
        "\n",
        "#Oversampling the data\n",
        "smoten = SMOTEN(random_state = 101, k_neighbors=1)\n",
        "X, y = smoten.fit_resample(np.array(df_train[['Item']]), df_train['Exiobase Spend Category'].values)\n",
        "print(f\"Class counts after resampling {Counter(y)}\")\n",
        "print(X)\n",
        "\n",
        "df_train_oversampler = pd.DataFrame(X, columns = ['Item'])\n",
        "df_train_oversampler['Exiobase Spend Category'] = y\n",
        "df_train_oversampler\n",
        "df_train_oversampler.groupby(['Exiobase Spend Category']).size().plot.bar()"
      ],
      "metadata": {
        "colab": {
          "base_uri": "https://localhost:8080/",
          "height": 770
        },
        "id": "qC-C0ntyPn9d",
        "outputId": "8c91488d-c14f-468b-9457-b3985bab5d33"
      },
      "execution_count": null,
      "outputs": [
        {
          "output_type": "stream",
          "name": "stdout",
          "text": [
            "Original class counts: Counter({'Food products nec': 767, 'Vegetables, fruit, nuts': 630, 'Beverages': 279, 'Fish and other fishing products; services incidental of fishing': 216, 'Dairy products': 146, 'Products of meat cattle': 100, 'Cattle': 86, 'Poultry': 82, 'Pigs': 81, 'Cereals grains nec': 76, 'Products of meat pigs': 53, 'Meat animals nec': 52, 'Fish products': 35, 'Products of vegetable oils and fats': 34, 'Meat products nec': 29, 'Products of meat poultry': 29, 'Oil seeds': 27, 'Wheat': 20, 'Sugar': 20, 'Crops nec': 16, 'Office machinery and computers': 8, 'Plant based fibers': 7, 'Textiles': 5, 'Chemicals nec': 3, 'Rubber and plastic products': 3, 'Raw milk': 3, 'Sugar cane, sugar beet': 2, 'Paddy rice': 2})\n",
            "Class counts after resampling Counter({'Wheat': 767, 'Vegetables, fruit, nuts': 767, 'Dairy products': 767, 'Food products nec': 767, 'Products of meat cattle': 767, 'Fish and other fishing products; services incidental of fishing': 767, 'Beverages': 767, 'Products of meat pigs': 767, 'Pigs': 767, 'Crops nec': 767, 'Cattle': 767, 'Meat products nec': 767, 'Products of meat poultry': 767, 'Cereals grains nec': 767, 'Sugar': 767, 'Fish products': 767, 'Oil seeds': 767, 'Meat animals nec': 767, 'Products of vegetable oils and fats': 767, 'Poultry': 767, 'Office machinery and computers': 767, 'Plant based fibers': 767, 'Chemicals nec': 767, 'Sugar cane, sugar beet': 767, 'Rubber and plastic products': 767, 'Textiles': 767, 'Paddy rice': 767, 'Raw milk': 767})\n",
            "[['millet cooked unsalted']\n",
            " ['lime raw']\n",
            " ['yogurt fermented milk dairy specialty w cereals']\n",
            " ...\n",
            " ['millet cooked unsalted']\n",
            " ['millet cooked unsalted']\n",
            " ['millet cooked unsalted']]\n"
          ]
        },
        {
          "output_type": "execute_result",
          "data": {
            "text/plain": [
              "<matplotlib.axes._subplots.AxesSubplot at 0x7fd695fd0450>"
            ]
          },
          "metadata": {},
          "execution_count": 19
        },
        {
          "output_type": "display_data",
          "data": {
            "text/plain": [
              "<Figure size 432x288 with 1 Axes>"
            ],
            "image/png": "[encoded data removed]"
          },
          "metadata": {
            "needs_background": "light"
          }
        }
      ]
    },
    {
      "cell_type": "code",
      "source": [
        "df_train_oversampler['Item'].apply(lambda x: len(x.split(' '))).sum() #71016 words to work with"
      ],
      "metadata": {
        "colab": {
          "base_uri": "https://localhost:8080/"
        },
        "id": "2IupWsHv0Vap",
        "outputId": "a2198976-b40c-4d35-a534-33620ca6d592"
      },
      "execution_count": null,
      "outputs": [
        {
          "output_type": "execute_result",
          "data": {
            "text/plain": [
              "71016"
            ]
          },
          "metadata": {},
          "execution_count": 58
        }
      ]
    },
    {
      "cell_type": "code",
      "source": [
        "# Convert back to X_train and y_train from df_train_oversampler dataframe\n",
        "X_train = df_train_oversampler['Item']\n",
        "y_train = df_train_oversampler['Exiobase Spend Category']"
      ],
      "metadata": {
        "id": "IPrYwXJ9atEk"
      },
      "execution_count": null,
      "outputs": []
    },
    {
      "cell_type": "code",
      "source": [
        "# labels = {'Paddy rice':0,\n",
        "#           'Wheat':1,\n",
        "#           'Cereals grains nec':2,\n",
        "#           'Vegetables, fruit, nuts':3,\n",
        "#           'Oil seeds':4,\n",
        "#           'Sugar cane, sugar beet': 5,\n",
        "#           'Plant based fibers': 6,\n",
        "#           'Crops nec': 7,\n",
        "#           'Cattle' :8,\n",
        "#           'Pigs': 9,\n",
        "#           'Poultry': 10,\n",
        "#           'Meat animals nec':11,\n",
        "#           'Raw milk':12,\n",
        "#           'Wool, silk-worm cocoons':13,\n",
        "#           'Manure - conventional':14,\n",
        "#           'Manure - biogas':15,\n",
        "#           'Fish and other fishing products; services incidental of fishing':16,\n",
        "#           'Anthracite':17,\n",
        "#           'Coking Coal':18,\n",
        "#           'Other Bituminous Coal':19,\n",
        "#           'Sub-Bituminous Coal':20,\n",
        "#           'Patent Fuel':21,\n",
        "#           'Lignite/Brown Coal':22,\n",
        "#           'BKB/Peat Briquettes':23,\n",
        "#           'Peat':24,\n",
        "#           'Chemical and fertilizer minerals, salt and other mining and quarrying products n.e.c.':25,\n",
        "#           'Crude petroleum and services related to crude oil extraction, excluding surveying':26,\n",
        "#           'Natural gas and services related to natural gas extraction, excluding surveying':27,\n",
        "#           'Natural Gas Liquids':28,\n",
        "#           'Other Hydrocarbons':29,\n",
        "#           'Uranium and thorium ores':30,\t\n",
        "#           'Iron ores':31,\n",
        "#           'Copper ores and concentrates':32,\n",
        "#           'Nickel ores and concentrates':33,\n",
        "#           'Aluminium ores and concentrates':34,\t\n",
        "#           'Precious metal ores and concentrates':35,\n",
        "#           'Lead, zinc and tin ores and concentrates':36,\t\n",
        "#           'Other non-ferrous metal ores and concentrates':37,\t\n",
        "#           'Stone':38,\n",
        "#           'Sand and clay':39,\t\n",
        "#           'Products of meat cattle':40,\t\n",
        "#           'Products of meat pigs':41,\n",
        "#           'Products of meat poultry':42,\t\n",
        "#           'Meat products nec':43,\n",
        "#           'Products of vegetable oils and fats':44,\t\n",
        "#           'Dairy products':\t45,\n",
        "#           'Processed rice':\t46,\n",
        "#           'Sugar':47,\n",
        "#           'Food products nec':48,\t\n",
        "#           'Beverages':49,\n",
        "#           'Fish products':50,\t\n",
        "#           'Tobacco products':51,\t\n",
        "#           'Food waste for treatment: biogasification and land application':52,\t\n",
        "#           'Food waste for treatment: composting and land application\tFood waste for treatment: incineration':53,\t\n",
        "#           'Food waste for treatment: landfill':54,\n",
        "#           'Textiles':55,\n",
        "#           'Textiles waste for treatment: incineration':56,\n",
        "#           'Textiles waste for treatment: landfill':57,\n",
        "#           'Wearing apparel; furs':58,\n",
        "#           'Leather and leather products':59,\n",
        "#           'Wood and products of wood and cork (except furniture); articles of straw and plaiting materials':60,\n",
        "#           'Wood material for treatment, reprocessing of secondary wood material into new wood material':61,\n",
        "#           'Wood waste for treatment: incineration':62,\n",
        "#           'Wood waste for treatment: landfill':63,\n",
        "#           'Pulp':64,\n",
        "#           'Paper and paper products':65,\n",
        "#           'Printed matter and recorded media':66,\n",
        "#           'Secondary paper for treatment, re-processing of secondary paper to new paper':67,\n",
        "#           'Coke Oven Coke':68,\n",
        "#           'Gas Coke':69,\n",
        "#           'Coal Tar':70,\n",
        "#           'Charcoal':71,\n",
        "#           'Motor Gasoline':72,\n",
        "#           'Aviation Gasoline':73,\n",
        "#           'Gasoline Type Jet Fuel':74,\n",
        "#           'Kerosene Type Jet Fuel':75,\n",
        "#           'Kerosene':76,\n",
        "#           'Gas/Diesel Oil':77,\n",
        "#           'Heavy Fuel Oil':78,\n",
        "#           'Refinery Gas':79,\n",
        "#           'Liquefied Petroleum':80,\n",
        "#           'Refinery Feedstocks':81,\n",
        "#           'Ethane':82,\n",
        "#           'Naphtha':83,\n",
        "#           'White Spirit & SBP':84,\n",
        "#           'Lubricants':85,\n",
        "#           'Bitumen':86,\n",
        "#           'Paraffin Waxes':87,\n",
        "#           'Petroleum Coke':88,\n",
        "#           'Non-specified Petrol':89,\n",
        "#           'Nuclear fuel':90,\n",
        "#           'N-fertiliser':91,\n",
        "#           'P- and other fertiliser':92,\n",
        "#           'Chemicals nec':93,\n",
        "#           'Plastics, basic':94,\n",
        "#           'Plastic waste for treatment: incineration':95,\n",
        "#           'Plastic waste for treatment: landfill':96,\n",
        "#           'Rubber and plastic products':97,\n",
        "#           'Glass and glass products':98,\n",
        "#           'Secondary glass for treatment, re-processing of secondary glass into new glass':99,\n",
        "#           'Ceramic goods':100,\n",
        "#           'Bricks, tiles and construction products, in baked clay':101,\n",
        "#           'Cement, lime and plaster':102,\n",
        "#           'Ash for treatment, re-processing of ash into clinker':103,\n",
        "#           'Other non-metallic mineral products':104,\n",
        "#           'Basic iron and steel and of ferro-alloys and first products thereof':105,\n",
        "#           'Secondary steel for treatment, re-processing of secondary steel into new steel':106,\n",
        "#           'Precious metals':107,\n",
        "#           'Secondary precious metals for treatment, re-processing of secondary precious metals into new precious metals':108,\n",
        "#           'Aluminium and aluminium products':109,\n",
        "#           'Secondary aluminium for treatment, re-processing of secondary aluminium into new aluminium':110,\n",
        "#           'Lead, zinc and tin and products thereof':111,\n",
        "#           'Secondary lead for treatment, reprocessing of secondary lead into new lead':112,\n",
        "#           'Copper products':113,\n",
        "#           'Secondary copper for treatment, reprocessing of secondary copper into new copper':114,\n",
        "#           'Other non-ferrous metal products':115,\n",
        "#           'Secondary other non-ferrous metals for treatment, reprocessing of secondary other non-ferrous metals into new other non-ferrous metals':116,\n",
        "#           'Foundry work services':117,\n",
        "#           'Fabricated metal products, except machinery and equipment':118,\n",
        "#           'Machinery and equipment n.e.c.':119,\n",
        "#           'Office machinery and computers':120,\n",
        "#           'Electrical machinery and apparatus n.e.c.':121,\n",
        "#           'Radio, television and communication equipment and apparatus n.e.c.':122,\n",
        "#           'Medical, precision and optical instruments, watches and clocks':123,\n",
        "#           'Motor vehicles, trailers and semi-trailers':124,\n",
        "#           'Other transport equipment':125,\n",
        "#           'Furniture; other manufactured goods n.e.c.':126,\n",
        "#           'Secondary raw materials':127,\n",
        "#           'Construction work':128,\n",
        "#           'Secondary construction material for treatment, re-processing of secondary construction material into new construction material':129,\n",
        "#           'Sale, maintenance, repair of motor vehicles, motor vehicles parts, motorcycles, motor cycles parts and accessories':130,\n",
        "#           'Wholesale trade and commission trade services, except for motor vehicles and motorcycles':131,\n",
        "#           'Retail trade services, except of motor vehicles and motor cycles':132,\n",
        "#           'Retail trade services of motor fuel':133,\n",
        "#           'Hotel and restaurant services':134,\n",
        "#           'Railway transportation services':135,\n",
        "#           'Other land transportation services':136,\n",
        "#           'Transportation services via pipeline':137,\n",
        "#           'Sea and coastal water transportation services':138,\n",
        "#           'Air transport services':139,\n",
        "#           'Supporting and auxiliary transport services, travel agency services':140,\n",
        "#           'Post and telecommunications services':141,\n",
        "#           'Financial intermediation services, except insurance and pension funding services':142,\n",
        "#           'Insurance and pension funding services, except compulsory social security services':143,\n",
        "#           'Supporting and auxil':144\n",
        "#           }"
      ],
      "metadata": {
        "id": "G3FiT1SX2Rv_"
      },
      "execution_count": null,
      "outputs": []
    },
    {
      "cell_type": "code",
      "source": [
        "# labels = labels.keys()\n",
        "# labels = list(labels)\n",
        "# labels = list(df_train['Exiobase Spend Category'].unique())\n",
        "# labels = list(df['Exiobase Spend Category'].unique())\n",
        "labels = set(y_train)\n",
        "len(labels)"
      ],
      "metadata": {
        "id": "m9Iuc-9C2aip",
        "colab": {
          "base_uri": "https://localhost:8080/"
        },
        "outputId": "ec02e6c3-71ef-47d6-b43b-a06c5aa63915"
      },
      "execution_count": null,
      "outputs": [
        {
          "output_type": "execute_result",
          "data": {
            "text/plain": [
              "28"
            ]
          },
          "metadata": {},
          "execution_count": 61
        }
      ]
    },
    {
      "cell_type": "markdown",
      "source": [
        "### **USING LINEAR SUPPORT VECTOR MACHINE:** unbalanced accuracy: 0.74378, balanced accuracy using SMOTE:"
      ],
      "metadata": {
        "id": "WaxLhfc10siG"
      }
    },
    {
      "cell_type": "code",
      "source": [
        "from sklearn.linear_model import SGDClassifier\n",
        "from sklearn.pipeline import Pipeline\n",
        "from sklearn.feature_extraction.text import TfidfTransformer\n",
        "from sklearn.metrics import classification_report\n",
        "\n",
        "sgd = Pipeline([('vect', CountVectorizer()),\n",
        "                ('tfidf', TfidfTransformer()),\n",
        "                ('clf', SGDClassifier(loss='hinge', penalty='l2',alpha=1e-3, random_state=42, max_iter=5, tol=None)),\n",
        "               ])\n",
        "sgd.fit(X_train, y_train)\n",
        "\n",
        "# %%time\n",
        "\n",
        "y_pred = sgd.predict(X_test)\n",
        "\n",
        "print('accuracy %s' % accuracy_score(y_pred, y_test))\n",
        "print(classification_report(y_test, y_pred,))\n"
      ],
      "metadata": {
        "colab": {
          "base_uri": "https://localhost:8080/"
        },
        "id": "Vkad4Gjk0_4W",
        "outputId": "51084fbc-3cd9-4f4d-8593-7a8aa90fef55"
      },
      "execution_count": null,
      "outputs": [
        {
          "output_type": "stream",
          "name": "stdout",
          "text": [
            "accuracy 0.648424543946932\n",
            "                                                                 precision    recall  f1-score   support\n",
            "\n",
            "                                                      Beverages       0.89      0.79      0.84       121\n",
            "                                                         Cattle       0.75      0.41      0.53        37\n",
            "                                             Cereals grains nec       0.73      0.33      0.46        33\n",
            "                                                  Chemicals nec       0.00      0.00      0.00         0\n",
            "                                                      Crops nec       0.18      0.30      0.22        10\n",
            "                                                 Dairy products       0.58      0.25      0.35        59\n",
            "Fish and other fishing products; services incidental of fishing       0.77      0.64      0.70        95\n",
            "                                                  Fish products       0.33      0.14      0.20        14\n",
            "                                              Food products nec       0.69      0.78      0.73       302\n",
            "                                               Meat animals nec       0.54      0.28      0.37        25\n",
            "                                              Meat products nec       0.35      0.40      0.38        15\n",
            "                                 Office machinery and computers       0.00      0.00      0.00         3\n",
            "                                                      Oil seeds       0.09      0.20      0.12        10\n",
            "                                                     Paddy rice       0.00      0.00      0.00         0\n",
            "                                                           Pigs       0.55      0.85      0.67        33\n",
            "                                             Plant based fibers       0.00      0.00      0.00         1\n",
            "                                                        Poultry       0.84      0.68      0.75        47\n",
            "                                        Products of meat cattle       0.64      0.62      0.63        48\n",
            "                                          Products of meat pigs       0.50      0.53      0.51        19\n",
            "                                       Products of meat poultry       0.54      0.54      0.54        13\n",
            "                            Products of vegetable oils and fats       0.21      0.25      0.23        20\n",
            "                                                       Raw milk       0.00      0.00      0.00         2\n",
            "                                                          Sugar       0.11      0.33      0.17         9\n",
            "                                         Sugar cane, sugar beet       0.00      0.00      0.00         1\n",
            "                                                       Textiles       0.00      0.00      0.00         1\n",
            "                                        Vegetables, fruit, nuts       0.77      0.74      0.76       280\n",
            "                                                          Wheat       0.56      0.62      0.59         8\n",
            "\n",
            "                                                       accuracy                           0.65      1206\n",
            "                                                      macro avg       0.39      0.36      0.36      1206\n",
            "                                                   weighted avg       0.69      0.65      0.66      1206\n",
            "\n"
          ]
        },
        {
          "output_type": "stream",
          "name": "stderr",
          "text": [
            "/usr/local/lib/python3.7/dist-packages/sklearn/metrics/_classification.py:1318: UndefinedMetricWarning: Precision and F-score are ill-defined and being set to 0.0 in labels with no predicted samples. Use `zero_division` parameter to control this behavior.\n",
            "  _warn_prf(average, modifier, msg_start, len(result))\n",
            "/usr/local/lib/python3.7/dist-packages/sklearn/metrics/_classification.py:1318: UndefinedMetricWarning: Recall and F-score are ill-defined and being set to 0.0 in labels with no true samples. Use `zero_division` parameter to control this behavior.\n",
            "  _warn_prf(average, modifier, msg_start, len(result))\n",
            "/usr/local/lib/python3.7/dist-packages/sklearn/metrics/_classification.py:1318: UndefinedMetricWarning: Precision and F-score are ill-defined and being set to 0.0 in labels with no predicted samples. Use `zero_division` parameter to control this behavior.\n",
            "  _warn_prf(average, modifier, msg_start, len(result))\n",
            "/usr/local/lib/python3.7/dist-packages/sklearn/metrics/_classification.py:1318: UndefinedMetricWarning: Recall and F-score are ill-defined and being set to 0.0 in labels with no true samples. Use `zero_division` parameter to control this behavior.\n",
            "  _warn_prf(average, modifier, msg_start, len(result))\n",
            "/usr/local/lib/python3.7/dist-packages/sklearn/metrics/_classification.py:1318: UndefinedMetricWarning: Precision and F-score are ill-defined and being set to 0.0 in labels with no predicted samples. Use `zero_division` parameter to control this behavior.\n",
            "  _warn_prf(average, modifier, msg_start, len(result))\n",
            "/usr/local/lib/python3.7/dist-packages/sklearn/metrics/_classification.py:1318: UndefinedMetricWarning: Recall and F-score are ill-defined and being set to 0.0 in labels with no true samples. Use `zero_division` parameter to control this behavior.\n",
            "  _warn_prf(average, modifier, msg_start, len(result))\n"
          ]
        }
      ]
    },
    {
      "cell_type": "code",
      "source": [
        "X_test\n",
        "r = [1, 2]\n",
        "ser = pd.Series(r, copy=False)\n",
        "ser.iloc[0] = 'apple'\n",
        "ser.iloc[1] = 'computer'\n",
        "ser"
      ],
      "metadata": {
        "colab": {
          "base_uri": "https://localhost:8080/"
        },
        "id": "3dSumqLD24j7",
        "outputId": "94621a6a-a625-4429-a135-3be2898bcccd"
      },
      "execution_count": null,
      "outputs": [
        {
          "output_type": "execute_result",
          "data": {
            "text/plain": [
              "0       apple\n",
              "1    computer\n",
              "dtype: object"
            ]
          },
          "metadata": {},
          "execution_count": 72
        }
      ]
    },
    {
      "cell_type": "code",
      "source": [
        "sgd.predict(ser)"
      ],
      "metadata": {
        "colab": {
          "base_uri": "https://localhost:8080/"
        },
        "id": "gmUSZeZA2Yz3",
        "outputId": "35f74fa1-8fb5-44a0-cbc2-fb52a34e094b"
      },
      "execution_count": null,
      "outputs": [
        {
          "output_type": "execute_result",
          "data": {
            "text/plain": [
              "array(['Vegetables, fruit, nuts', 'Food products nec'], dtype='<U63')"
            ]
          },
          "metadata": {},
          "execution_count": 73
        }
      ]
    },
    {
      "cell_type": "markdown",
      "source": [
        "### **USING LOGISTIC REGRESSION** unbalanced accuracy: 0.74461, balanced accuracy using SMOTE:0.96325"
      ],
      "metadata": {
        "id": "c9pRZ3EP3LMr"
      }
    },
    {
      "cell_type": "code",
      "source": [
        "from sklearn.linear_model import LogisticRegression\n",
        "\n",
        "logreg = Pipeline([('vect', CountVectorizer()),\n",
        "                ('tfidf', TfidfTransformer()),\n",
        "                ('clf', LogisticRegression(n_jobs=1, C=1e5)),\n",
        "               ])\n",
        "logreg.fit(X_train, y_train)\n",
        "\n",
        "# %%time\n",
        "\n",
        "y_pred = logreg.predict(X_test)\n",
        "\n",
        "print('accuracy %s' % accuracy_score(y_pred, y_test))\n",
        "print('f1 %s' % f1_score(y_pred, y_test, average='micro'))\n",
        "print(classification_report(y_test, y_pred)) #target_names=labels"
      ],
      "metadata": {
        "colab": {
          "base_uri": "https://localhost:8080/"
        },
        "id": "D2V8XODB3XfW",
        "outputId": "f0fb2a25-30cc-4002-9a51-d1d669b56b92"
      },
      "execution_count": null,
      "outputs": [
        {
          "output_type": "stream",
          "name": "stdout",
          "text": [
            "accuracy 0.7371475953565506\n",
            "f1 0.7371475953565506\n",
            "                                                                 precision    recall  f1-score   support\n",
            "\n",
            "                                                      Beverages       0.94      0.88      0.91       121\n",
            "                                                         Cattle       0.55      0.59      0.57        37\n",
            "                                             Cereals grains nec       0.73      0.58      0.64        33\n",
            "                                                      Crops nec       0.29      0.20      0.24        10\n",
            "                                                 Dairy products       0.59      0.69      0.64        59\n",
            "Fish and other fishing products; services incidental of fishing       0.82      0.80      0.81        95\n",
            "                                                  Fish products       0.48      0.71      0.57        14\n",
            "                                              Food products nec       0.78      0.78      0.78       302\n",
            "                                               Meat animals nec       0.50      0.44      0.47        25\n",
            "                                              Meat products nec       0.83      0.67      0.74        15\n",
            "                                 Office machinery and computers       0.00      0.00      0.00         3\n",
            "                                                      Oil seeds       0.00      0.00      0.00        10\n",
            "                                                     Paddy rice       0.00      0.00      0.00         0\n",
            "                                                           Pigs       0.80      0.85      0.82        33\n",
            "                                             Plant based fibers       0.00      0.00      0.00         1\n",
            "                                                        Poultry       0.82      0.77      0.79        47\n",
            "                                        Products of meat cattle       0.80      0.58      0.67        48\n",
            "                                          Products of meat pigs       0.80      0.63      0.71        19\n",
            "                                       Products of meat poultry       0.60      0.69      0.64        13\n",
            "                            Products of vegetable oils and fats       0.83      0.50      0.62        20\n",
            "                                                       Raw milk       0.00      0.00      0.00         2\n",
            "                                                          Sugar       1.00      0.33      0.50         9\n",
            "                                         Sugar cane, sugar beet       0.00      0.00      0.00         1\n",
            "                                                       Textiles       0.00      0.00      0.00         1\n",
            "                                        Vegetables, fruit, nuts       0.71      0.81      0.75       280\n",
            "                                                          Wheat       0.80      0.50      0.62         8\n",
            "\n",
            "                                                       accuracy                           0.74      1206\n",
            "                                                      macro avg       0.53      0.46      0.48      1206\n",
            "                                                   weighted avg       0.74      0.74      0.74      1206\n",
            "\n"
          ]
        },
        {
          "output_type": "stream",
          "name": "stderr",
          "text": [
            "/usr/local/lib/python3.7/dist-packages/sklearn/linear_model/_logistic.py:818: ConvergenceWarning: lbfgs failed to converge (status=1):\n",
            "STOP: TOTAL NO. of ITERATIONS REACHED LIMIT.\n",
            "\n",
            "Increase the number of iterations (max_iter) or scale the data as shown in:\n",
            "    https://scikit-learn.org/stable/modules/preprocessing.html\n",
            "Please also refer to the documentation for alternative solver options:\n",
            "    https://scikit-learn.org/stable/modules/linear_model.html#logistic-regression\n",
            "  extra_warning_msg=_LOGISTIC_SOLVER_CONVERGENCE_MSG,\n",
            "/usr/local/lib/python3.7/dist-packages/sklearn/metrics/_classification.py:1318: UndefinedMetricWarning: Precision and F-score are ill-defined and being set to 0.0 in labels with no predicted samples. Use `zero_division` parameter to control this behavior.\n",
            "  _warn_prf(average, modifier, msg_start, len(result))\n",
            "/usr/local/lib/python3.7/dist-packages/sklearn/metrics/_classification.py:1318: UndefinedMetricWarning: Recall and F-score are ill-defined and being set to 0.0 in labels with no true samples. Use `zero_division` parameter to control this behavior.\n",
            "  _warn_prf(average, modifier, msg_start, len(result))\n",
            "/usr/local/lib/python3.7/dist-packages/sklearn/metrics/_classification.py:1318: UndefinedMetricWarning: Precision and F-score are ill-defined and being set to 0.0 in labels with no predicted samples. Use `zero_division` parameter to control this behavior.\n",
            "  _warn_prf(average, modifier, msg_start, len(result))\n",
            "/usr/local/lib/python3.7/dist-packages/sklearn/metrics/_classification.py:1318: UndefinedMetricWarning: Recall and F-score are ill-defined and being set to 0.0 in labels with no true samples. Use `zero_division` parameter to control this behavior.\n",
            "  _warn_prf(average, modifier, msg_start, len(result))\n",
            "/usr/local/lib/python3.7/dist-packages/sklearn/metrics/_classification.py:1318: UndefinedMetricWarning: Precision and F-score are ill-defined and being set to 0.0 in labels with no predicted samples. Use `zero_division` parameter to control this behavior.\n",
            "  _warn_prf(average, modifier, msg_start, len(result))\n",
            "/usr/local/lib/python3.7/dist-packages/sklearn/metrics/_classification.py:1318: UndefinedMetricWarning: Recall and F-score are ill-defined and being set to 0.0 in labels with no true samples. Use `zero_division` parameter to control this behavior.\n",
            "  _warn_prf(average, modifier, msg_start, len(result))\n"
          ]
        }
      ]
    },
    {
      "cell_type": "code",
      "source": [
        "r = [1, 2]\n",
        "ser = pd.Series(r, copy=False)\n",
        "ser.iloc[0] = 'apple'\n",
        "ser.iloc[1] = 'laptop'\n",
        "ser\n",
        "logreg.predict(ser)\n",
        "# logreg.predict_proba(ser)"
      ],
      "metadata": {
        "colab": {
          "base_uri": "https://localhost:8080/"
        },
        "id": "XcwmNco3QyBc",
        "outputId": "322b4db2-8888-4744-e932-9592265a191f"
      },
      "execution_count": null,
      "outputs": [
        {
          "output_type": "execute_result",
          "data": {
            "text/plain": [
              "array(['Vegetables, fruit, nuts', 'Office machinery and computers'],\n",
              "      dtype=object)"
            ]
          },
          "metadata": {},
          "execution_count": 78
        }
      ]
    },
    {
      "cell_type": "code",
      "source": [
        "labels"
      ],
      "metadata": {
        "colab": {
          "base_uri": "https://localhost:8080/"
        },
        "id": "h8chDCmlTaDE",
        "outputId": "4ee749ff-c41b-4eee-887f-ebdb717e770a"
      },
      "execution_count": null,
      "outputs": [
        {
          "output_type": "execute_result",
          "data": {
            "text/plain": [
              "{'Beverages',\n",
              " 'Cattle',\n",
              " 'Cereals grains nec',\n",
              " 'Chemicals nec',\n",
              " 'Crops nec',\n",
              " 'Dairy products',\n",
              " 'Fish and other fishing products; services incidental of fishing',\n",
              " 'Fish products',\n",
              " 'Food products nec',\n",
              " 'Meat animals nec',\n",
              " 'Meat products nec',\n",
              " 'Office machinery and computers',\n",
              " 'Oil seeds',\n",
              " 'Paddy rice',\n",
              " 'Pigs',\n",
              " 'Plant based fibers',\n",
              " 'Poultry',\n",
              " 'Products of meat cattle',\n",
              " 'Products of meat pigs',\n",
              " 'Products of meat poultry',\n",
              " 'Products of vegetable oils and fats',\n",
              " 'Raw milk',\n",
              " 'Rubber and plastic products',\n",
              " 'Sugar',\n",
              " 'Sugar cane, sugar beet',\n",
              " 'Textiles',\n",
              " 'Vegetables, fruit, nuts',\n",
              " 'Wheat'}"
            ]
          },
          "metadata": {},
          "execution_count": 67
        }
      ]
    },
    {
      "cell_type": "markdown",
      "source": [
        "### **USING BOW with Keras (neural network)** "
      ],
      "metadata": {
        "id": "gQcUqn863zDr"
      }
    },
    {
      "cell_type": "code",
      "source": [
        "# https://github.com/tensorflow/workshops/blob/master/extras/keras-bag-of-words/keras-bow-model.ipynb"
      ],
      "metadata": {
        "id": "yg7vf-324Dri"
      },
      "execution_count": null,
      "outputs": []
    },
    {
      "cell_type": "code",
      "source": [
        "import itertools\n",
        "import os\n",
        "import tensorflow as tf\n",
        "from sklearn.preprocessing import LabelBinarizer, LabelEncoder\n",
        "from tensorflow import keras\n",
        "from keras.models import Sequential\n",
        "from keras.layers import Dense, Activation, Dropout\n",
        "from keras.preprocessing import text, sequence\n",
        "from keras import utils"
      ],
      "metadata": {
        "id": "gGtZckVR4I5f"
      },
      "execution_count": null,
      "outputs": []
    },
    {
      "cell_type": "code",
      "source": [
        "# train_size = int(len(df_oversampler) * .7)\n",
        "train_items = X_train   \n",
        "train_labels = y_train\n",
        "\n",
        "test_items = X_test\n",
        "test_labels = y_test\n",
        "\n",
        "max_words = 1000\n",
        "tokenize = text.Tokenizer(num_words=max_words, char_level=False)\n",
        "tokenize.fit_on_texts(train_items) # only fit on train"
      ],
      "metadata": {
        "id": "M6l8Vy6862LB"
      },
      "execution_count": null,
      "outputs": []
    },
    {
      "cell_type": "code",
      "source": [
        "x_train = tokenize.texts_to_matrix(train_items)\n",
        "x_test = tokenize.texts_to_matrix(test_items)"
      ],
      "metadata": {
        "id": "hVa67sKG7X6X"
      },
      "execution_count": null,
      "outputs": []
    },
    {
      "cell_type": "code",
      "source": [
        "encoder = LabelEncoder()\n",
        "encoder.fit(train_labels)\n",
        "\n",
        "y_train = encoder.transform(train_labels)\n",
        "y_test = encoder.transform(test_labels) #maybe can try to balance the dataset first\n",
        "\n"
      ],
      "metadata": {
        "id": "jgmJGmKl7YNq"
      },
      "execution_count": null,
      "outputs": []
    },
    {
      "cell_type": "code",
      "source": [
        "from keras.utils import np_utils\n",
        "num_classes = np.max(y_train) + 1\n",
        "y_train = np_utils.to_categorical(y_train, num_classes)\n",
        "y_test = np_utils.to_categorical(y_test, num_classes)"
      ],
      "metadata": {
        "id": "623CsaWt7Yb3"
      },
      "execution_count": null,
      "outputs": []
    },
    {
      "cell_type": "code",
      "source": [
        "batch_size = 32\n",
        "epochs =5"
      ],
      "metadata": {
        "id": "7LmUIfOQzhT0"
      },
      "execution_count": null,
      "outputs": []
    },
    {
      "cell_type": "code",
      "source": [
        "# Build the model\n",
        "model = Sequential()\n",
        "model.add(Dense(512, input_shape=(max_words,)))\n",
        "model.add(Activation('relu'))\n",
        "model.add(Dropout(0.5))\n",
        "model.add(Dense(num_classes))\n",
        "model.add(Activation('softmax'))\n",
        "\n",
        "model.compile(loss='categorical_crossentropy',\n",
        "              optimizer='adam',\n",
        "              metrics=['accuracy'])\n",
        "              \n",
        "history = model.fit(x_train, y_train,\n",
        "                    batch_size=batch_size,\n",
        "                    epochs=epochs,\n",
        "                    verbose=1,\n",
        "                    validation_split=0.1)"
      ],
      "metadata": {
        "colab": {
          "base_uri": "https://localhost:8080/"
        },
        "id": "heJokmuyzkRz",
        "outputId": "bcd8fb5a-5513-4134-a7fd-c6deacdadbac"
      },
      "execution_count": null,
      "outputs": [
        {
          "output_type": "stream",
          "name": "stdout",
          "text": [
            "Epoch 1/5\n",
            "604/604 [==============================] - 10s 13ms/step - loss: 0.5538 - accuracy: 0.9028 - val_loss: 4.0598 - val_accuracy: 0.0638\n",
            "Epoch 2/5\n",
            "604/604 [==============================] - 7s 11ms/step - loss: 0.1595 - accuracy: 0.9506 - val_loss: 3.0534 - val_accuracy: 0.0638\n",
            "Epoch 3/5\n",
            "604/604 [==============================] - 7s 12ms/step - loss: 0.1189 - accuracy: 0.9607 - val_loss: 2.2943 - val_accuracy: 0.0638\n",
            "Epoch 4/5\n",
            "604/604 [==============================] - 7s 12ms/step - loss: 0.0987 - accuracy: 0.9662 - val_loss: 1.7132 - val_accuracy: 0.3966\n",
            "Epoch 5/5\n",
            "604/604 [==============================] - 7s 11ms/step - loss: 0.0880 - accuracy: 0.9689 - val_loss: 1.3498 - val_accuracy: 0.7514\n"
          ]
        }
      ]
    },
    {
      "cell_type": "code",
      "source": [
        "score = model.evaluate(x_test, y_test,\n",
        "                       batch_size=batch_size, verbose=1)\n",
        "print('Test accuracy:', score[1])\n",
        "print(score)\n"
      ],
      "metadata": {
        "colab": {
          "base_uri": "https://localhost:8080/"
        },
        "id": "vBMm-xUlzrQT",
        "outputId": "034d17b3-76e9-42f0-8d55-969e8dd1037c"
      },
      "execution_count": null,
      "outputs": [
        {
          "output_type": "stream",
          "name": "stdout",
          "text": [
            "38/38 [==============================] - 0s 6ms/step - loss: 0.8519 - accuracy: 0.7521\n",
            "Test accuracy: 0.7520729899406433\n",
            "[0.8518936634063721, 0.7520729899406433]\n"
          ]
        }
      ]
    },
    {
      "cell_type": "code",
      "source": [
        "y_test"
      ],
      "metadata": {
        "colab": {
          "base_uri": "https://localhost:8080/"
        },
        "id": "RCNO9mFOhyts",
        "outputId": "c73de1a7-2299-4292-c964-6bc737adaaad"
      },
      "execution_count": null,
      "outputs": [
        {
          "output_type": "execute_result",
          "data": {
            "text/plain": [
              "array([[0., 1., 0., ..., 0., 0., 0.],\n",
              "       [0., 0., 0., ..., 0., 0., 0.],\n",
              "       [0., 0., 0., ..., 0., 0., 0.],\n",
              "       ...,\n",
              "       [0., 0., 0., ..., 0., 1., 0.],\n",
              "       [0., 0., 0., ..., 0., 0., 0.],\n",
              "       [0., 0., 0., ..., 0., 0., 0.]], dtype=float32)"
            ]
          },
          "metadata": {},
          "execution_count": 33
        }
      ]
    },
    {
      "cell_type": "code",
      "source": [
        "text_labels = encoder.classes_ \n",
        "\n",
        "for i in range(10):\n",
        "    prediction = model.predict(np.array([x_test[i]]))\n",
        "    predicted_label = text_labels[np.argmax(prediction)]\n",
        "    print(test_items.iloc[i][:50], \"...\")\n",
        "    print('Actual label:' + test_labels.iloc[i][:50])\n",
        "    print(\"Predicted label: \" + predicted_label + \"\\n\")  \n"
      ],
      "metadata": {
        "colab": {
          "base_uri": "https://localhost:8080/"
        },
        "id": "bTS1-0mWdUIU",
        "outputId": "0e610220-c6b6-403c-f5da-676c387df5e3"
      },
      "execution_count": null,
      "outputs": [
        {
          "output_type": "stream",
          "name": "stdout",
          "text": [
            "gouda cheese cows milk ...\n",
            "Actual label:Cattle\n",
            "Predicted label: Products of meat cattle\n",
            "\n",
            "ham pastry crusty ...\n",
            "Actual label:Pigs\n",
            "Predicted label: Food products nec\n",
            "\n",
            "chicken average ...\n",
            "Actual label:Poultry\n",
            "Predicted label: Products of meat poultry\n",
            "\n",
            "vegetables 34 types mashed ...\n",
            "Actual label:Vegetables, fruit, nuts\n",
            "Predicted label: Food products nec\n",
            "\n",
            "cabbage red raw ...\n",
            "Actual label:Vegetables, fruit, nuts\n",
            "Predicted label: Vegetables, fruit, nuts\n",
            "\n",
            "chaource cheese cows milk ...\n",
            "Actual label:Products of meat cattle\n",
            "Predicted label: Products of meat cattle\n",
            "\n",
            "coconut kernel dried ...\n",
            "Actual label:Vegetables, fruit, nuts\n",
            "Predicted label: Vegetables, fruit, nuts\n",
            "\n",
            "cider ...\n",
            "Actual label:Beverages\n",
            "Predicted label: Beverages\n",
            "\n",
            "haddock grilled panfried ...\n",
            "Actual label:Fish and other fishing products; services incident\n",
            "Predicted label: Fish and other fishing products; services incidental of fishing\n",
            "\n",
            "macadamia nut grilled salted ...\n",
            "Actual label:Vegetables, fruit, nuts\n",
            "Predicted label: Vegetables, fruit, nuts\n",
            "\n"
          ]
        }
      ]
    },
    {
      "cell_type": "code",
      "source": [
        "from keras.utils.generic_utils import serialize_keras_object\n",
        "\n",
        "items = ['apple','chicken']\n",
        "\n",
        "ser = pd.Series(items)\n",
        "ser_tokenize = tokenize.texts_to_matrix(ser)\n",
        "\n",
        "\n",
        "for i in range(len(ser)):\n",
        "    prediction = model.predict(np.array([ser_tokenize[i]]))\n",
        "    predicted_label = text_labels[np.argmax(prediction)]\n",
        "    print(\"Item: \" + ser[i]) \n",
        "    print(\"Predicted label: \" + predicted_label + \"\\n\")  "
      ],
      "metadata": {
        "colab": {
          "base_uri": "https://localhost:8080/"
        },
        "id": "dmjs57vllqjh",
        "outputId": "43f446a6-2ad5-40b9-bfd8-5bf3d981cd5d"
      },
      "execution_count": null,
      "outputs": [
        {
          "output_type": "stream",
          "name": "stdout",
          "text": [
            "Item: apple\n",
            "Predicted label: Vegetables, fruit, nuts\n",
            "\n",
            "Item: chicken\n",
            "Predicted label: Products of meat poultry\n",
            "\n"
          ]
        }
      ]
    },
    {
      "cell_type": "code",
      "source": [
        "from keras.models import save_model, load_model\n",
        "\n",
        "# Save the model\n",
        "filepath = 'C:/Users/user/OneDrive/Documents/GitHub/unravel_items_classification/MLModel/text.pt'\n",
        "save_model(model, filepath)\n",
        "\n"
      ],
      "metadata": {
        "colab": {
          "base_uri": "https://localhost:8080/"
        },
        "id": "XscJhUHOpK32",
        "outputId": "9c7ec596-7df1-4e7f-a00f-5f991b490b22"
      },
      "execution_count": null,
      "outputs": [
        {
          "output_type": "stream",
          "name": "stdout",
          "text": [
            "INFO:tensorflow:Assets written to: C:/Users/user/OneDrive/Documents/GitHub/unravel_items_classification/MLModel/text.pt/assets\n"
          ]
        }
      ]
    },
    {
      "cell_type": "code",
      "source": [
        "test = load_model('/content/kerasModel', compile = True)\n",
        "\n",
        "test\n"
      ],
      "metadata": {
        "colab": {
          "base_uri": "https://localhost:8080/"
        },
        "id": "xJMn49GatAOK",
        "outputId": "04705984-55dc-49c5-954f-636797afc202"
      },
      "execution_count": null,
      "outputs": [
        {
          "output_type": "execute_result",
          "data": {
            "text/plain": [
              "<keras.engine.sequential.Sequential at 0x7fe62c8dbbd0>"
            ]
          },
          "metadata": {},
          "execution_count": 136
        }
      ]
    },
    {
      "cell_type": "code",
      "source": [
        "for i in range(len(ser)):\n",
        "    prediction = test.predict(np.array([ser_tokenize[i]]))\n",
        "    predicted_label = text_labels[np.argmax(prediction)]\n",
        "    print(\"Item: \" + ser[i]) \n",
        "    print(\"Predicted label: \" + predicted_label + \"\\n\")  "
      ],
      "metadata": {
        "colab": {
          "base_uri": "https://localhost:8080/"
        },
        "id": "W4BXWnjCRNqd",
        "outputId": "980245cb-b6ce-4a08-a59c-a83ddf0b1d45"
      },
      "execution_count": null,
      "outputs": [
        {
          "output_type": "stream",
          "name": "stdout",
          "text": [
            "Item: apple\n",
            "Predicted label: Vegetables, fruit, nuts\n",
            "\n",
            "Item: chicken\n",
            "Predicted label: Products of meat poultry\n",
            "\n"
          ]
        }
      ]
    },
    {
      "cell_type": "code",
      "source": [
        "from google.colab import drive\n",
        "drive.mount('/content/drive')"
      ],
      "metadata": {
        "colab": {
          "base_uri": "https://localhost:8080/"
        },
        "id": "XCqMbcL-vXQu",
        "outputId": "73de8838-b081-41e4-c3a8-bd3781326be1"
      },
      "execution_count": null,
      "outputs": [
        {
          "output_type": "stream",
          "name": "stdout",
          "text": [
            "Mounted at /content/drive\n"
          ]
        }
      ]
    },
    {
      "cell_type": "markdown",
      "source": [
        "### **NAIVE BAYES**\n"
      ],
      "metadata": {
        "id": "ABYxLk2ZtTOv"
      }
    },
    {
      "cell_type": "code",
      "source": [
        "from sklearn.naive_bayes import MultinomialNB\n",
        "from sklearn.pipeline import Pipeline\n",
        "from sklearn.feature_extraction.text import TfidfTransformer\n",
        "from sklearn.metrics import classification_report\n",
        "\n",
        "naiveB = Pipeline([('vect', CountVectorizer()),\n",
        "                ('tfidf', TfidfTransformer()),\n",
        "                ('multinomialnb', MultinomialNB(alpha=1)), #alpha in multinomialNB represents the additive smoothing parameter. If it is 0, then there will be no smoothing.\n",
        "                                                           #Smoothing solves the zero probability problem in Naive Bayes algorithm, which is the problem of assigning probability equal to zero for every new data point in the test set.\n",
        "               ])\n",
        "\n",
        "naiveB.fit(X_train, y_train)\n",
        "\n",
        "y_pred = naiveB.predict(X_test)\n",
        "\n",
        "print('accuracy %s' % accuracy_score(y_pred, y_test))\n",
        "print('f1 %s' % f1_score(y_pred, y_test, average='micro'))\n",
        "print(classification_report(y_test, y_pred)) #target_names=labels"
      ],
      "metadata": {
        "colab": {
          "base_uri": "https://localhost:8080/"
        },
        "id": "0BVVn6kctdKD",
        "outputId": "829d704e-0837-45f4-a58a-fb3d49123760"
      },
      "execution_count": null,
      "outputs": [
        {
          "output_type": "stream",
          "name": "stdout",
          "text": [
            "accuracy 0.6650082918739635\n",
            "f1 0.6650082918739635\n",
            "                                                                 precision    recall  f1-score   support\n",
            "\n",
            "                                                      Beverages       0.69      0.83      0.75       121\n",
            "                                                         Cattle       0.61      0.54      0.57        37\n",
            "                                             Cereals grains nec       0.88      0.21      0.34        33\n",
            "                                                  Chemicals nec       0.00      0.00      0.00         0\n",
            "                                                      Crops nec       0.23      0.30      0.26        10\n",
            "                                                 Dairy products       0.69      0.31      0.42        59\n",
            "Fish and other fishing products; services incidental of fishing       0.75      0.80      0.77        95\n",
            "                                                  Fish products       1.00      0.07      0.13        14\n",
            "                                              Food products nec       0.72      0.81      0.76       302\n",
            "                                               Meat animals nec       0.43      0.24      0.31        25\n",
            "                                              Meat products nec       0.45      0.33      0.38        15\n",
            "                                 Office machinery and computers       0.00      0.00      0.00         3\n",
            "                                                      Oil seeds       0.18      0.30      0.22        10\n",
            "                                                     Paddy rice       0.00      0.00      0.00         0\n",
            "                                                           Pigs       0.64      0.91      0.75        33\n",
            "                                             Plant based fibers       0.00      0.00      0.00         1\n",
            "                                                        Poultry       0.64      0.62      0.63        47\n",
            "                                        Products of meat cattle       0.66      0.60      0.63        48\n",
            "                                          Products of meat pigs       0.63      0.63      0.63        19\n",
            "                                       Products of meat poultry       0.50      0.62      0.55        13\n",
            "                            Products of vegetable oils and fats       0.31      0.25      0.28        20\n",
            "                                                       Raw milk       0.11      0.50      0.18         2\n",
            "                                                          Sugar       0.60      0.33      0.43         9\n",
            "                                         Sugar cane, sugar beet       0.00      0.00      0.00         1\n",
            "                                                       Textiles       0.00      0.00      0.00         1\n",
            "                                        Vegetables, fruit, nuts       0.76      0.71      0.73       280\n",
            "                                                          Wheat       0.29      0.50      0.36         8\n",
            "\n",
            "                                                       accuracy                           0.67      1206\n",
            "                                                      macro avg       0.44      0.39      0.37      1206\n",
            "                                                   weighted avg       0.68      0.67      0.66      1206\n",
            "\n"
          ]
        },
        {
          "output_type": "stream",
          "name": "stderr",
          "text": [
            "/usr/local/lib/python3.7/dist-packages/sklearn/metrics/_classification.py:1318: UndefinedMetricWarning: Precision and F-score are ill-defined and being set to 0.0 in labels with no predicted samples. Use `zero_division` parameter to control this behavior.\n",
            "  _warn_prf(average, modifier, msg_start, len(result))\n",
            "/usr/local/lib/python3.7/dist-packages/sklearn/metrics/_classification.py:1318: UndefinedMetricWarning: Recall and F-score are ill-defined and being set to 0.0 in labels with no true samples. Use `zero_division` parameter to control this behavior.\n",
            "  _warn_prf(average, modifier, msg_start, len(result))\n",
            "/usr/local/lib/python3.7/dist-packages/sklearn/metrics/_classification.py:1318: UndefinedMetricWarning: Precision and F-score are ill-defined and being set to 0.0 in labels with no predicted samples. Use `zero_division` parameter to control this behavior.\n",
            "  _warn_prf(average, modifier, msg_start, len(result))\n",
            "/usr/local/lib/python3.7/dist-packages/sklearn/metrics/_classification.py:1318: UndefinedMetricWarning: Recall and F-score are ill-defined and being set to 0.0 in labels with no true samples. Use `zero_division` parameter to control this behavior.\n",
            "  _warn_prf(average, modifier, msg_start, len(result))\n",
            "/usr/local/lib/python3.7/dist-packages/sklearn/metrics/_classification.py:1318: UndefinedMetricWarning: Precision and F-score are ill-defined and being set to 0.0 in labels with no predicted samples. Use `zero_division` parameter to control this behavior.\n",
            "  _warn_prf(average, modifier, msg_start, len(result))\n",
            "/usr/local/lib/python3.7/dist-packages/sklearn/metrics/_classification.py:1318: UndefinedMetricWarning: Recall and F-score are ill-defined and being set to 0.0 in labels with no true samples. Use `zero_division` parameter to control this behavior.\n",
            "  _warn_prf(average, modifier, msg_start, len(result))\n"
          ]
        }
      ]
    },
    {
      "cell_type": "markdown",
      "source": [
        "### **RANDOM FOREST**"
      ],
      "metadata": {
        "id": "E1MHAGzJvNbM"
      }
    },
    {
      "cell_type": "code",
      "source": [
        "from sklearn.ensemble import RandomForestClassifier\n",
        "from sklearn.pipeline import Pipeline\n",
        "from sklearn.feature_extraction.text import TfidfTransformer\n",
        "from sklearn.metrics import classification_report\n",
        "\n",
        "RandomFC = Pipeline([\n",
        "                ('vect', CountVectorizer()),\n",
        "                ('tfidf', TfidfTransformer()),\n",
        "                ('clf', RandomForestClassifier(n_estimators = 100, criterion = 'entropy', random_state = 101)),\n",
        "               ])\n",
        "\n",
        "RandomFC.fit(X_train, y_train)\n",
        "\n",
        "y_pred = RandomFC.predict(X_test)\n",
        "\n",
        "print('accuracy %s' % accuracy_score(y_pred, y_test))\n",
        "print('f1 %s' % f1_score(y_pred, y_test, average='micro'))\n",
        "print(classification_report(y_test, y_pred)) #target_names=labels"
      ],
      "metadata": {
        "colab": {
          "base_uri": "https://localhost:8080/"
        },
        "id": "LLW3YNyzvUWJ",
        "outputId": "838f17cd-ac49-4f2c-999d-33b3a1d879fc"
      },
      "execution_count": null,
      "outputs": [
        {
          "output_type": "stream",
          "name": "stdout",
          "text": [
            "accuracy 0.703150912106136\n",
            "f1 0.703150912106136\n",
            "                                                                 precision    recall  f1-score   support\n",
            "\n",
            "                                                      Beverages       0.94      0.86      0.90       121\n",
            "                                                         Cattle       0.63      0.51      0.57        37\n",
            "                                             Cereals grains nec       0.69      0.33      0.45        33\n",
            "                                                  Chemicals nec       0.00      0.00      0.00         0\n",
            "                                                      Crops nec       0.25      0.20      0.22        10\n",
            "                                                 Dairy products       0.70      0.66      0.68        59\n",
            "Fish and other fishing products; services incidental of fishing       0.77      0.51      0.61        95\n",
            "                                                  Fish products       0.33      0.36      0.34        14\n",
            "                                              Food products nec       0.81      0.74      0.77       302\n",
            "                                               Meat animals nec       0.54      0.28      0.37        25\n",
            "                                              Meat products nec       0.67      0.53      0.59        15\n",
            "                                 Office machinery and computers       0.00      0.00      0.00         3\n",
            "                                                      Oil seeds       0.00      0.00      0.00        10\n",
            "                                                     Paddy rice       0.00      0.00      0.00         0\n",
            "                                                           Pigs       0.82      0.94      0.87        33\n",
            "                                             Plant based fibers       0.00      0.00      0.00         1\n",
            "                                                        Poultry       0.79      0.79      0.79        47\n",
            "                                        Products of meat cattle       0.70      0.65      0.67        48\n",
            "                                          Products of meat pigs       0.74      0.74      0.74        19\n",
            "                                       Products of meat poultry       0.64      0.54      0.58        13\n",
            "                            Products of vegetable oils and fats       0.71      0.50      0.59        20\n",
            "                                                       Raw milk       0.33      0.50      0.40         2\n",
            "                                                          Sugar       1.00      0.11      0.20         9\n",
            "                                         Sugar cane, sugar beet       0.00      0.00      0.00         1\n",
            "                                                       Textiles       0.00      0.00      0.00         1\n",
            "                                        Vegetables, fruit, nuts       0.60      0.88      0.71       280\n",
            "                                                          Wheat       0.67      0.50      0.57         8\n",
            "\n",
            "                                                       accuracy                           0.70      1206\n",
            "                                                      macro avg       0.49      0.41      0.43      1206\n",
            "                                                   weighted avg       0.72      0.70      0.70      1206\n",
            "\n"
          ]
        },
        {
          "output_type": "stream",
          "name": "stderr",
          "text": [
            "/usr/local/lib/python3.7/dist-packages/sklearn/metrics/_classification.py:1318: UndefinedMetricWarning: Precision and F-score are ill-defined and being set to 0.0 in labels with no predicted samples. Use `zero_division` parameter to control this behavior.\n",
            "  _warn_prf(average, modifier, msg_start, len(result))\n",
            "/usr/local/lib/python3.7/dist-packages/sklearn/metrics/_classification.py:1318: UndefinedMetricWarning: Recall and F-score are ill-defined and being set to 0.0 in labels with no true samples. Use `zero_division` parameter to control this behavior.\n",
            "  _warn_prf(average, modifier, msg_start, len(result))\n",
            "/usr/local/lib/python3.7/dist-packages/sklearn/metrics/_classification.py:1318: UndefinedMetricWarning: Precision and F-score are ill-defined and being set to 0.0 in labels with no predicted samples. Use `zero_division` parameter to control this behavior.\n",
            "  _warn_prf(average, modifier, msg_start, len(result))\n",
            "/usr/local/lib/python3.7/dist-packages/sklearn/metrics/_classification.py:1318: UndefinedMetricWarning: Recall and F-score are ill-defined and being set to 0.0 in labels with no true samples. Use `zero_division` parameter to control this behavior.\n",
            "  _warn_prf(average, modifier, msg_start, len(result))\n",
            "/usr/local/lib/python3.7/dist-packages/sklearn/metrics/_classification.py:1318: UndefinedMetricWarning: Precision and F-score are ill-defined and being set to 0.0 in labels with no predicted samples. Use `zero_division` parameter to control this behavior.\n",
            "  _warn_prf(average, modifier, msg_start, len(result))\n",
            "/usr/local/lib/python3.7/dist-packages/sklearn/metrics/_classification.py:1318: UndefinedMetricWarning: Recall and F-score are ill-defined and being set to 0.0 in labels with no true samples. Use `zero_division` parameter to control this behavior.\n",
            "  _warn_prf(average, modifier, msg_start, len(result))\n"
          ]
        }
      ]
    },
    {
      "cell_type": "markdown",
      "source": [
        "### **Word2vec AND LOGISTIC REGRESSION**"
      ],
      "metadata": {
        "id": "0stC8ORMykg9"
      }
    },
    {
      "cell_type": "code",
      "source": [
        "from tqdm import tqdm\n",
        "tqdm.pandas(desc=\"progress-bar\")\n",
        "from gensim.models import Doc2Vec\n",
        "from sklearn import utils\n",
        "import gensim\n",
        "from gensim.models.doc2vec import TaggedDocument\n",
        "import re\n",
        "\n",
        "def label_sentences(corpus, label_type):\n",
        "    \"\"\"\n",
        "    Gensim's Doc2Vec implementation requires each document/paragraph to have a label associated with it.\n",
        "    We do this by using the TaggedDocument method. The format will be \"TRAIN_i\" or \"TEST_i\" where \"i\" is\n",
        "    a dummy index of the post.\n",
        "    \"\"\"\n",
        "    labeled = []\n",
        "    for i, v in enumerate(corpus):\n",
        "        label = label_type + '_' + str(i)\n",
        "        labeled.append(TaggedDocument(v.split(), [label]))\n",
        "    return labeled\n",
        "X_train = label_sentences(X_train, 'Train')\n",
        "X_test = label_sentences(X_test, 'Test')\n",
        "all_data = X_train + X_test\n",
        "# all_data"
      ],
      "metadata": {
        "id": "NwkhafXSyrj2"
      },
      "execution_count": null,
      "outputs": []
    },
    {
      "cell_type": "code",
      "source": [
        "model_dbow = Doc2Vec(dm=0, vector_size=300, negative=5, min_count=1, alpha=0.065, min_alpha=0.065)\n",
        "model_dbow.build_vocab([x for x in tqdm(all_data)])\n",
        "\n",
        "for epoch in range(30):\n",
        "    model_dbow.train(utils.shuffle([x for x in tqdm(all_data)]), total_examples=len(all_data), epochs=1)\n",
        "    model_dbow.alpha -= 0.002\n",
        "    model_dbow.min_alpha = model_dbow.alpha"
      ],
      "metadata": {
        "colab": {
          "base_uri": "https://localhost:8080/"
        },
        "id": "7lmGe_C21Jfg",
        "outputId": "381be60a-e933-43ff-f245-6bdc3378d09c"
      },
      "execution_count": null,
      "outputs": [
        {
          "output_type": "stream",
          "name": "stderr",
          "text": [
            "100%|██████████| 22682/22682 [00:00<00:00, 250076.11it/s]\n",
            "100%|██████████| 22682/22682 [00:00<00:00, 1888990.00it/s]\n",
            "100%|██████████| 22682/22682 [00:00<00:00, 1802076.14it/s]\n",
            "100%|██████████| 22682/22682 [00:00<00:00, 1767294.00it/s]\n",
            "100%|██████████| 22682/22682 [00:00<00:00, 1733639.54it/s]\n",
            "100%|██████████| 22682/22682 [00:00<00:00, 1940465.53it/s]\n",
            "100%|██████████| 22682/22682 [00:00<00:00, 1521238.34it/s]\n",
            "100%|██████████| 22682/22682 [00:00<00:00, 1942644.84it/s]\n",
            "100%|██████████| 22682/22682 [00:00<00:00, 1446681.21it/s]\n",
            "100%|██████████| 22682/22682 [00:00<00:00, 1930503.31it/s]\n",
            "100%|██████████| 22682/22682 [00:00<00:00, 1951571.41it/s]\n",
            "100%|██████████| 22682/22682 [00:00<00:00, 1667575.87it/s]\n",
            "100%|██████████| 22682/22682 [00:00<00:00, 1893200.20it/s]\n",
            "100%|██████████| 22682/22682 [00:00<00:00, 1589905.97it/s]\n",
            "100%|██████████| 22682/22682 [00:00<00:00, 1758701.58it/s]\n",
            "100%|██████████| 22682/22682 [00:00<00:00, 1768246.60it/s]\n",
            "100%|██████████| 22682/22682 [00:00<00:00, 1870788.42it/s]\n",
            "100%|██████████| 22682/22682 [00:00<00:00, 1411543.42it/s]\n",
            "100%|██████████| 22682/22682 [00:00<00:00, 1740554.05it/s]\n",
            "100%|██████████| 22682/22682 [00:00<00:00, 1749033.94it/s]\n",
            "100%|██████████| 22682/22682 [00:00<00:00, 1946221.58it/s]\n",
            "100%|██████████| 22682/22682 [00:00<00:00, 1828573.69it/s]\n",
            "100%|██████████| 22682/22682 [00:00<00:00, 1634569.32it/s]\n",
            "100%|██████████| 22682/22682 [00:00<00:00, 1918319.18it/s]\n",
            "100%|██████████| 22682/22682 [00:00<00:00, 1603627.53it/s]\n",
            "100%|██████████| 22682/22682 [00:00<00:00, 1696177.49it/s]\n",
            "100%|██████████| 22682/22682 [00:00<00:00, 1901297.11it/s]\n",
            "100%|██████████| 22682/22682 [00:00<00:00, 1633811.39it/s]\n",
            "100%|██████████| 22682/22682 [00:00<00:00, 2005548.60it/s]\n",
            "100%|██████████| 22682/22682 [00:00<00:00, 1659576.16it/s]\n",
            "100%|██████████| 22682/22682 [00:00<00:00, 1909195.33it/s]\n"
          ]
        }
      ]
    },
    {
      "cell_type": "code",
      "source": [
        "def get_vectors(model, corpus_size, vectors_size, vectors_type):\n",
        "    \"\"\"\n",
        "    Get vectors from trained doc2vec model\n",
        "    :param doc2vec_model: Trained Doc2Vec model\n",
        "    :param corpus_size: Size of the data\n",
        "    :param vectors_size: Size of the embedding vectors\n",
        "    :param vectors_type: Training or Testing vectors\n",
        "    :return: list of vectors\n",
        "    \"\"\"\n",
        "    vectors = np.zeros((corpus_size, vectors_size))\n",
        "    for i in range(0, corpus_size):\n",
        "        prefix = vectors_type + '_' + str(i)\n",
        "        vectors[i] = model.docvecs[prefix]\n",
        "    return vectors\n",
        "    \n",
        "train_vectors_dbow = get_vectors(model_dbow, len(X_train), 300, 'Train')\n",
        "test_vectors_dbow = get_vectors(model_dbow, len(X_test), 300, 'Test')"
      ],
      "metadata": {
        "id": "bDqjXFyby_3S"
      },
      "execution_count": null,
      "outputs": []
    },
    {
      "cell_type": "code",
      "source": [
        "logreg = LogisticRegression(n_jobs=1, C=1e5)\n",
        "logreg.fit(train_vectors_dbow, y_train)\n",
        "logreg = logreg.fit(train_vectors_dbow, y_train)\n",
        "y_pred = logreg.predict(test_vectors_dbow)\n",
        "print('accuracy %s' % accuracy_score(y_pred, y_test))\n",
        "print(classification_report(y_test, y_pred))"
      ],
      "metadata": {
        "colab": {
          "base_uri": "https://localhost:8080/"
        },
        "id": "1Ucft3SH1pw8",
        "outputId": "f7fe8cdc-1201-491a-c347-4a72533528af"
      },
      "execution_count": null,
      "outputs": [
        {
          "output_type": "stream",
          "name": "stderr",
          "text": [
            "/usr/local/lib/python3.7/dist-packages/sklearn/linear_model/_logistic.py:818: ConvergenceWarning: lbfgs failed to converge (status=1):\n",
            "STOP: TOTAL NO. of ITERATIONS REACHED LIMIT.\n",
            "\n",
            "Increase the number of iterations (max_iter) or scale the data as shown in:\n",
            "    https://scikit-learn.org/stable/modules/preprocessing.html\n",
            "Please also refer to the documentation for alternative solver options:\n",
            "    https://scikit-learn.org/stable/modules/linear_model.html#logistic-regression\n",
            "  extra_warning_msg=_LOGISTIC_SOLVER_CONVERGENCE_MSG,\n"
          ]
        },
        {
          "output_type": "stream",
          "name": "stdout",
          "text": [
            "accuracy 0.62106135986733\n",
            "                                                                 precision    recall  f1-score   support\n",
            "\n",
            "                                                      Beverages       0.81      0.84      0.83       121\n",
            "                                                         Cattle       0.57      0.46      0.51        37\n",
            "                                             Cereals grains nec       0.33      0.24      0.28        33\n",
            "                                                  Chemicals nec       0.00      0.00      0.00         0\n",
            "                                                      Crops nec       0.40      0.40      0.40        10\n",
            "                                                 Dairy products       0.67      0.47      0.55        59\n",
            "Fish and other fishing products; services incidental of fishing       0.61      0.57      0.59        95\n",
            "                                                  Fish products       0.36      0.36      0.36        14\n",
            "                                              Food products nec       0.69      0.71      0.70       302\n",
            "                                               Meat animals nec       0.50      0.20      0.29        25\n",
            "                                              Meat products nec       0.46      0.40      0.43        15\n",
            "                                 Office machinery and computers       0.00      0.00      0.00         3\n",
            "                                                      Oil seeds       0.08      0.10      0.09        10\n",
            "                                                     Paddy rice       0.00      0.00      0.00         0\n",
            "                                                           Pigs       0.64      0.85      0.73        33\n",
            "                                             Plant based fibers       0.00      0.00      0.00         1\n",
            "                                                        Poultry       0.86      0.64      0.73        47\n",
            "                                        Products of meat cattle       0.60      0.58      0.59        48\n",
            "                                          Products of meat pigs       0.50      0.37      0.42        19\n",
            "                                       Products of meat poultry       0.33      0.46      0.39        13\n",
            "                            Products of vegetable oils and fats       0.56      0.25      0.34        20\n",
            "                                                       Raw milk       0.00      0.00      0.00         2\n",
            "                                                          Sugar       0.40      0.22      0.29         9\n",
            "                                         Sugar cane, sugar beet       0.20      1.00      0.33         1\n",
            "                                                       Textiles       0.00      0.00      0.00         1\n",
            "                                        Vegetables, fruit, nuts       0.61      0.70      0.65       280\n",
            "                                                          Wheat       0.33      0.25      0.29         8\n",
            "\n",
            "                                                       accuracy                           0.62      1206\n",
            "                                                      macro avg       0.39      0.37      0.36      1206\n",
            "                                                   weighted avg       0.63      0.62      0.62      1206\n",
            "\n"
          ]
        },
        {
          "output_type": "stream",
          "name": "stderr",
          "text": [
            "/usr/local/lib/python3.7/dist-packages/sklearn/linear_model/_logistic.py:818: ConvergenceWarning: lbfgs failed to converge (status=1):\n",
            "STOP: TOTAL NO. of ITERATIONS REACHED LIMIT.\n",
            "\n",
            "Increase the number of iterations (max_iter) or scale the data as shown in:\n",
            "    https://scikit-learn.org/stable/modules/preprocessing.html\n",
            "Please also refer to the documentation for alternative solver options:\n",
            "    https://scikit-learn.org/stable/modules/linear_model.html#logistic-regression\n",
            "  extra_warning_msg=_LOGISTIC_SOLVER_CONVERGENCE_MSG,\n",
            "/usr/local/lib/python3.7/dist-packages/sklearn/metrics/_classification.py:1318: UndefinedMetricWarning: Precision and F-score are ill-defined and being set to 0.0 in labels with no predicted samples. Use `zero_division` parameter to control this behavior.\n",
            "  _warn_prf(average, modifier, msg_start, len(result))\n",
            "/usr/local/lib/python3.7/dist-packages/sklearn/metrics/_classification.py:1318: UndefinedMetricWarning: Recall and F-score are ill-defined and being set to 0.0 in labels with no true samples. Use `zero_division` parameter to control this behavior.\n",
            "  _warn_prf(average, modifier, msg_start, len(result))\n",
            "/usr/local/lib/python3.7/dist-packages/sklearn/metrics/_classification.py:1318: UndefinedMetricWarning: Precision and F-score are ill-defined and being set to 0.0 in labels with no predicted samples. Use `zero_division` parameter to control this behavior.\n",
            "  _warn_prf(average, modifier, msg_start, len(result))\n",
            "/usr/local/lib/python3.7/dist-packages/sklearn/metrics/_classification.py:1318: UndefinedMetricWarning: Recall and F-score are ill-defined and being set to 0.0 in labels with no true samples. Use `zero_division` parameter to control this behavior.\n",
            "  _warn_prf(average, modifier, msg_start, len(result))\n",
            "/usr/local/lib/python3.7/dist-packages/sklearn/metrics/_classification.py:1318: UndefinedMetricWarning: Precision and F-score are ill-defined and being set to 0.0 in labels with no predicted samples. Use `zero_division` parameter to control this behavior.\n",
            "  _warn_prf(average, modifier, msg_start, len(result))\n",
            "/usr/local/lib/python3.7/dist-packages/sklearn/metrics/_classification.py:1318: UndefinedMetricWarning: Recall and F-score are ill-defined and being set to 0.0 in labels with no true samples. Use `zero_division` parameter to control this behavior.\n",
            "  _warn_prf(average, modifier, msg_start, len(result))\n"
          ]
        }
      ]
    }
  ]
}